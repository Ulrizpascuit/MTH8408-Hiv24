{
 "cells": [
  {
   "cell_type": "markdown",
   "metadata": {},
   "source": [
    " # MTH8408 : Méthodes d'optimisation et contrôle optimal\n",
    " ## Laboratoire 3: Optimisation sans contraintes et méthodes itératives\n",
    "Tangi Migot et Paul Raynaud"
   ]
  },
  {
   "cell_type": "markdown",
   "metadata": {},
   "source": [
    "Ulrich Baron-Fournier (2021196)"
   ]
  },
  {
   "cell_type": "markdown",
   "metadata": {},
   "source": [
    "## Exercice 1:  Méthode quasi-Newton L-BFGS"
   ]
  },
  {
   "cell_type": "code",
   "execution_count": 1,
   "metadata": {},
   "outputs": [],
   "source": [
    "using LinearAlgebra, NLPModels, Printf"
   ]
  },
  {
   "cell_type": "code",
   "execution_count": 2,
   "metadata": {},
   "outputs": [
    {
     "data": {
      "text/plain": [
       "ADNLPModel - Model with automatic differentiation backend ADModelBackend{\n",
       "  ForwardDiffADGradient,\n",
       "  ForwardDiffADHvprod,\n",
       "  EmptyADbackend,\n",
       "  EmptyADbackend,\n",
       "  EmptyADbackend,\n",
       "  ForwardDiffADHessian,\n",
       "  EmptyADbackend,\n",
       "}\n",
       "  Problem name: Generic\n",
       "   All variables: ████████████████████ 2      All constraints: ⋅⋅⋅⋅⋅⋅⋅⋅⋅⋅⋅⋅⋅⋅⋅⋅⋅⋅⋅⋅ 0     \n",
       "            free: ████████████████████ 2                 free: ⋅⋅⋅⋅⋅⋅⋅⋅⋅⋅⋅⋅⋅⋅⋅⋅⋅⋅⋅⋅ 0     \n",
       "           lower: ⋅⋅⋅⋅⋅⋅⋅⋅⋅⋅⋅⋅⋅⋅⋅⋅⋅⋅⋅⋅ 0                lower: ⋅⋅⋅⋅⋅⋅⋅⋅⋅⋅⋅⋅⋅⋅⋅⋅⋅⋅⋅⋅ 0     \n",
       "           upper: ⋅⋅⋅⋅⋅⋅⋅⋅⋅⋅⋅⋅⋅⋅⋅⋅⋅⋅⋅⋅ 0                upper: ⋅⋅⋅⋅⋅⋅⋅⋅⋅⋅⋅⋅⋅⋅⋅⋅⋅⋅⋅⋅ 0     \n",
       "         low/upp: ⋅⋅⋅⋅⋅⋅⋅⋅⋅⋅⋅⋅⋅⋅⋅⋅⋅⋅⋅⋅ 0              low/upp: ⋅⋅⋅⋅⋅⋅⋅⋅⋅⋅⋅⋅⋅⋅⋅⋅⋅⋅⋅⋅ 0     \n",
       "           fixed: ⋅⋅⋅⋅⋅⋅⋅⋅⋅⋅⋅⋅⋅⋅⋅⋅⋅⋅⋅⋅ 0                fixed: ⋅⋅⋅⋅⋅⋅⋅⋅⋅⋅⋅⋅⋅⋅⋅⋅⋅⋅⋅⋅ 0     \n",
       "          infeas: ⋅⋅⋅⋅⋅⋅⋅⋅⋅⋅⋅⋅⋅⋅⋅⋅⋅⋅⋅⋅ 0               infeas: ⋅⋅⋅⋅⋅⋅⋅⋅⋅⋅⋅⋅⋅⋅⋅⋅⋅⋅⋅⋅ 0     \n",
       "            nnzh: (  0.00% sparsity)   3               linear: ⋅⋅⋅⋅⋅⋅⋅⋅⋅⋅⋅⋅⋅⋅⋅⋅⋅⋅⋅⋅ 0     \n",
       "                                                    nonlinear: ⋅⋅⋅⋅⋅⋅⋅⋅⋅⋅⋅⋅⋅⋅⋅⋅⋅⋅⋅⋅ 0     \n",
       "                                                         nnzj: (------% sparsity)         \n",
       "\n",
       "  Counters:\n",
       "             obj: ⋅⋅⋅⋅⋅⋅⋅⋅⋅⋅⋅⋅⋅⋅⋅⋅⋅⋅⋅⋅ 0                 grad: ⋅⋅⋅⋅⋅⋅⋅⋅⋅⋅⋅⋅⋅⋅⋅⋅⋅⋅⋅⋅ 0                 cons: ⋅⋅⋅⋅⋅⋅⋅⋅⋅⋅⋅⋅⋅⋅⋅⋅⋅⋅⋅⋅ 0     \n",
       "        cons_lin: ⋅⋅⋅⋅⋅⋅⋅⋅⋅⋅⋅⋅⋅⋅⋅⋅⋅⋅⋅⋅ 0             cons_nln: ⋅⋅⋅⋅⋅⋅⋅⋅⋅⋅⋅⋅⋅⋅⋅⋅⋅⋅⋅⋅ 0                 jcon: ⋅⋅⋅⋅⋅⋅⋅⋅⋅⋅⋅⋅⋅⋅⋅⋅⋅⋅⋅⋅ 0     \n",
       "           jgrad: ⋅⋅⋅⋅⋅⋅⋅⋅⋅⋅⋅⋅⋅⋅⋅⋅⋅⋅⋅⋅ 0                  jac: ⋅⋅⋅⋅⋅⋅⋅⋅⋅⋅⋅⋅⋅⋅⋅⋅⋅⋅⋅⋅ 0              jac_lin: ⋅⋅⋅⋅⋅⋅⋅⋅⋅⋅⋅⋅⋅⋅⋅⋅⋅⋅⋅⋅ 0     \n",
       "         jac_nln: ⋅⋅⋅⋅⋅⋅⋅⋅⋅⋅⋅⋅⋅⋅⋅⋅⋅⋅⋅⋅ 0                jprod: ⋅⋅⋅⋅⋅⋅⋅⋅⋅⋅⋅⋅⋅⋅⋅⋅⋅⋅⋅⋅ 0            jprod_lin: ⋅⋅⋅⋅⋅⋅⋅⋅⋅⋅⋅⋅⋅⋅⋅⋅⋅⋅⋅⋅ 0     \n",
       "       jprod_nln: ⋅⋅⋅⋅⋅⋅⋅⋅⋅⋅⋅⋅⋅⋅⋅⋅⋅⋅⋅⋅ 0               jtprod: ⋅⋅⋅⋅⋅⋅⋅⋅⋅⋅⋅⋅⋅⋅⋅⋅⋅⋅⋅⋅ 0           jtprod_lin: ⋅⋅⋅⋅⋅⋅⋅⋅⋅⋅⋅⋅⋅⋅⋅⋅⋅⋅⋅⋅ 0     \n",
       "      jtprod_nln: ⋅⋅⋅⋅⋅⋅⋅⋅⋅⋅⋅⋅⋅⋅⋅⋅⋅⋅⋅⋅ 0                 hess: ⋅⋅⋅⋅⋅⋅⋅⋅⋅⋅⋅⋅⋅⋅⋅⋅⋅⋅⋅⋅ 0                hprod: ⋅⋅⋅⋅⋅⋅⋅⋅⋅⋅⋅⋅⋅⋅⋅⋅⋅⋅⋅⋅ 0     \n",
       "           jhess: ⋅⋅⋅⋅⋅⋅⋅⋅⋅⋅⋅⋅⋅⋅⋅⋅⋅⋅⋅⋅ 0               jhprod: ⋅⋅⋅⋅⋅⋅⋅⋅⋅⋅⋅⋅⋅⋅⋅⋅⋅⋅⋅⋅ 0     \n"
      ]
     },
     "metadata": {},
     "output_type": "display_data"
    }
   ],
   "source": [
    "#Test problem:\n",
    "using ADNLPModels\n",
    "fH(x) = (x[2]+x[1].^2-11).^2+(x[1]+x[2].^2-7).^2\n",
    "x0H = [10., 20.]\n",
    "himmelblau = ADNLPModel(fH, x0H)\n",
    "\n",
    "problem2 = ADNLPModel(x->-x[1]^2, ones(3))\n",
    "\n",
    "roz(x) = 100 *  (x[2] - x[1]^2)^2 + (x[1] - 1.0)^2\n",
    "rosenbrock = ADNLPModel(roz, [-1.2, 1.0])\n",
    "\n",
    "f(x) = x[1]^2 * (2*x[1] - 3) - 6*x[1]*x[2] * (x[1] - x[2] - 1)\n",
    "pb_du_cours = ADNLPModel(f, [-1.001, -1.001]) #ou [1.5, .5] ou [.5, .5]"
   ]
  },
  {
   "cell_type": "code",
   "execution_count": 3,
   "metadata": {},
   "outputs": [],
   "source": [
    "using SolverCore, LinearOperators"
   ]
  },
  {
   "cell_type": "code",
   "execution_count": 4,
   "metadata": {},
   "outputs": [
    {
     "data": {
      "text/plain": [
       "armijo (generic function with 1 method)"
      ]
     },
     "metadata": {},
     "output_type": "display_data"
    }
   ],
   "source": [
    "function armijo(xk, dk, fk, gk, slope, nlp :: AbstractNLPModel; τ1 = 1.0e-4, t_update = 1.5)\n",
    "  t = 1.0\n",
    "  fk_new = obj(nlp, xk + dk) # t = 1.0\n",
    "  while fk_new > fk + τ1 * t * slope\n",
    "    t /= t_update\n",
    "    fk_new = obj(nlp, xk + t * dk)\n",
    "  end\n",
    "  return t, fk_new\n",
    "end"
   ]
  },
  {
   "cell_type": "code",
   "execution_count": 5,
   "metadata": {},
   "outputs": [
    {
     "data": {
      "text/plain": [
       "limited_bfgs (generic function with 1 method)"
      ]
     },
     "metadata": {},
     "output_type": "display_data"
    }
   ],
   "source": [
    "function limited_bfgs(nlp      :: AbstractNLPModel;\n",
    "                      x        :: AbstractVector = nlp.meta.x0,\n",
    "                      atol     :: Real = √eps(eltype(x)), \n",
    "                      rtol     :: Real = √eps(eltype(x)),\n",
    "                      max_eval :: Int = -1,\n",
    "                      max_time :: Float64 = 30.0,\n",
    "                      f_min    :: Float64 = -1.0e16,\n",
    "                      verbose  :: Bool = true,\n",
    "                      mem      :: Int = 5)\n",
    "  start_time = time()\n",
    "  elapsed_time = 0.0\n",
    "  s=0\n",
    "  y=0\n",
    "  T = eltype(x)\n",
    "  n = nlp.meta.nvar\n",
    "\n",
    "  xt = zeros(T, n)\n",
    "  ∇ft = zeros(T, n)\n",
    "\n",
    "  f = obj(nlp, x)\n",
    "  ∇f = grad(nlp, x)\n",
    "#################################################\n",
    "  H = InverseLBFGSOperator(T,n, ;mem=5, scaling=true)\n",
    "#################################################\n",
    "\n",
    "  ∇fNorm = norm(∇f) #nrm2(n, ∇f)\n",
    "  ϵ = atol + rtol * ∇fNorm\n",
    "  iter = 0\n",
    "\n",
    "  @info log_header([:iter, :f, :dual, :slope, :bk], [Int, T, T, T, T],\n",
    "                   hdr_override=Dict(:f=>\"f(x)\", :dual=>\"‖∇f‖\", :slope=>\"∇fᵀd\"))\n",
    "\n",
    "  optimal = ∇fNorm ≤ ϵ\n",
    "  unbdd = f ≤ f_min\n",
    "  tired = neval_obj(nlp) > max_eval ≥ 0 || elapsed_time > max_time\n",
    "  stalled = false\n",
    "  status = :unknown\n",
    "\n",
    "  while !(optimal || tired || stalled || unbdd)\n",
    "\n",
    "#################################################\n",
    "    d = -H*∇f\n",
    "#################################################\n",
    "    slope = dot(d, ∇f)\n",
    "    if slope ≥ 0\n",
    "      @error \"not a descent direction\" slope\n",
    "      status = :not_desc\n",
    "      stalled = true\n",
    "      continue\n",
    "    end\n",
    "\n",
    "    # Perform improved Armijo linesearch.\n",
    "    t, ft = armijo(x, d, f, ∇f, slope, nlp)\n",
    "        \n",
    "    @info log_row(Any[iter, f, ∇fNorm, slope, t])\n",
    "\n",
    "    # Update L-BFGS approximation.\n",
    "    s = t*d\n",
    "    xt = x + t * d\n",
    "    ∇ft = grad(nlp, xt) # grad!(nlp, xt, ∇ft)\n",
    "    y = ∇ft - ∇f\n",
    "#################################################\n",
    "    LinearOperators.push!(H, s, y)\n",
    "#################################################\n",
    "\n",
    "    # Move on.\n",
    "    x = xt\n",
    "    f = ft\n",
    "    ∇f = ∇ft\n",
    "\n",
    "    ∇fNorm = norm(∇f) #nrm2(n, ∇f)\n",
    "    iter = iter + 1\n",
    "\n",
    "    optimal = ∇fNorm ≤ ϵ\n",
    "    unbdd = f ≤ f_min\n",
    "    elapsed_time = time() - start_time\n",
    "    tired = neval_obj(nlp) > max_eval ≥ 0 || elapsed_time > max_time\n",
    "  end\n",
    "  @info log_row(Any[iter, f, ∇fNorm])\n",
    "\n",
    "  if optimal\n",
    "    status = :first_order\n",
    "  elseif tired\n",
    "    if neval_obj(nlp) > max_eval ≥ 0\n",
    "      status = :max_eval\n",
    "    elseif elapsed_time > max_time\n",
    "      status = :max_time\n",
    "    end\n",
    "  elseif unbdd\n",
    "        status = :unbounded\n",
    "  end\n",
    "\n",
    "  return GenericExecutionStats(\n",
    "        nlp,\n",
    "        status=status,\n",
    "        solution=x,\n",
    "        objective=f,\n",
    "        dual_feas=∇fNorm,\n",
    "        iter=iter,\n",
    "        elapsed_time=elapsed_time,\n",
    "    )\n",
    "end"
   ]
  },
  {
   "cell_type": "markdown",
   "metadata": {},
   "source": [
    "Test"
   ]
  },
  {
   "cell_type": "code",
   "execution_count": 7,
   "metadata": {},
   "outputs": [
    {
     "name": "stdout",
     "output_type": "stream",
     "text": [
      "(stats.status, stats.solution) = (:first_order, [3.584428266659278, -1.8481265666485827])\n"
     ]
    },
    {
     "data": {
      "text/plain": [
       "(:first_order, [3.584428266659278, -1.8481265666485827])"
      ]
     },
     "metadata": {},
     "output_type": "display_data"
    }
   ],
   "source": [
    "\n",
    "using Logging, Test\n",
    "stats = with_logger(NullLogger()) do \n",
    "    limited_bfgs(himmelblau) \n",
    "end\n",
    "@test stats.status == :first_order\n",
    "@test stats.solution ≈ [3.584428266659278, -1.8481265666485827] atol = 1e-6\n",
    "@show (stats.status, stats.solution)"
   ]
  },
  {
   "cell_type": "markdown",
   "metadata": {},
   "source": [
    "Test sur un problème de OptimizationProblems"
   ]
  },
  {
   "cell_type": "code",
   "execution_count": 8,
   "metadata": {},
   "outputs": [
    {
     "name": "stderr",
     "output_type": "stream",
     "text": [
      "WARNING: using ADNLPProblems.rosenbrock in module Main conflicts with an existing identifier.\n"
     ]
    }
   ],
   "source": [
    "using ADNLPModels, OptimizationProblems.ADNLPProblems, Test"
   ]
  },
  {
   "cell_type": "code",
   "execution_count": 9,
   "metadata": {},
   "outputs": [
    {
     "data": {
      "text/plain": [
       "\u001b[32m\u001b[1mTest Passed\u001b[22m\u001b[39m"
      ]
     },
     "metadata": {},
     "output_type": "display_data"
    }
   ],
   "source": [
    "n = 50\n",
    "model = genrose(n=n)\n",
    "@test typeof(model) <: ADNLPModel"
   ]
  },
  {
   "cell_type": "code",
   "execution_count": 11,
   "metadata": {},
   "outputs": [
    {
     "name": "stderr",
     "output_type": "stream",
     "text": [
      "┌ Info:   iter      f(x)      ‖∇f‖      ∇fᵀd        bk  \n",
      "└ @ Main c:\\Users\\Ulrizpascuit\\Desktop\\MTH8408\\MTH8408-Hiv24\\lab3\\Lab3-notebook.ipynb:30\n"
     ]
    },
    {
     "name": "stderr",
     "output_type": "stream",
     "text": [
      "┌ Info:      0   2.2e+02   9.6e+01  -9.2e+03   1.7e-02\n",
      "└ @ Main c:\\Users\\Ulrizpascuit\\Desktop\\MTH8408\\MTH8408-Hiv24\\lab3\\Lab3-notebook.ipynb:55\n",
      "┌ Info:      1   1.9e+02   2.5e+02  -1.6e+02   1.0e+00\n",
      "└ @ Main c:\\Users\\Ulrizpascuit\\Desktop\\MTH8408\\MTH8408-Hiv24\\lab3\\Lab3-notebook.ipynb:55\n",
      "┌ Info:      2   1.5e+02   1.8e+02  -3.9e+01   1.0e+00\n",
      "└ @ Main c:\\Users\\Ulrizpascuit\\Desktop\\MTH8408\\MTH8408-Hiv24\\lab3\\Lab3-notebook.ipynb:55\n",
      "┌ Info:      3   1.3e+02   9.8e+01  -1.6e+01   1.0e+00\n",
      "└ @ Main c:\\Users\\Ulrizpascuit\\Desktop\\MTH8408\\MTH8408-Hiv24\\lab3\\Lab3-notebook.ipynb:55\n",
      "┌ Info:      4   1.1e+02   7.4e+01  -2.2e+01   1.0e+00\n",
      "└ @ Main c:\\Users\\Ulrizpascuit\\Desktop\\MTH8408\\MTH8408-Hiv24\\lab3\\Lab3-notebook.ipynb:55\n",
      "┌ Info:      5   1.0e+02   9.1e+01  -2.0e+01   1.0e+00\n",
      "└ @ Main c:\\Users\\Ulrizpascuit\\Desktop\\MTH8408\\MTH8408-Hiv24\\lab3\\Lab3-notebook.ipynb:55\n",
      "┌ Info:      6   1.0e+02   1.5e+02  -1.5e+01   1.0e+00\n",
      "└ @ Main c:\\Users\\Ulrizpascuit\\Desktop\\MTH8408\\MTH8408-Hiv24\\lab3\\Lab3-notebook.ipynb:55\n",
      "┌ Info:      7   9.4e+01   4.6e+01  -2.8e+00   1.0e+00\n",
      "└ @ Main c:\\Users\\Ulrizpascuit\\Desktop\\MTH8408\\MTH8408-Hiv24\\lab3\\Lab3-notebook.ipynb:55\n",
      "┌ Info:      8   9.2e+01   3.2e+01  -2.6e+00   1.0e+00\n",
      "└ @ Main c:\\Users\\Ulrizpascuit\\Desktop\\MTH8408\\MTH8408-Hiv24\\lab3\\Lab3-notebook.ipynb:55\n",
      "┌ Info:      9   9.0e+01   2.9e+01  -2.7e+00   1.0e+00\n",
      "└ @ Main c:\\Users\\Ulrizpascuit\\Desktop\\MTH8408\\MTH8408-Hiv24\\lab3\\Lab3-notebook.ipynb:55\n",
      "┌ Info:     10   8.9e+01   3.0e+01  -1.8e+00   6.7e-01\n",
      "└ @ Main c:\\Users\\Ulrizpascuit\\Desktop\\MTH8408\\MTH8408-Hiv24\\lab3\\Lab3-notebook.ipynb:55\n",
      "┌ Info:     11   8.8e+01   2.7e+01  -5.0e-01   1.0e+00\n",
      "└ @ Main c:\\Users\\Ulrizpascuit\\Desktop\\MTH8408\\MTH8408-Hiv24\\lab3\\Lab3-notebook.ipynb:55\n",
      "┌ Info:     12   8.8e+01   7.7e+00  -6.5e-02   1.0e+00\n",
      "└ @ Main c:\\Users\\Ulrizpascuit\\Desktop\\MTH8408\\MTH8408-Hiv24\\lab3\\Lab3-notebook.ipynb:55\n",
      "┌ Info:     13   8.8e+01   6.5e+00  -2.4e-01   1.0e+00\n",
      "└ @ Main c:\\Users\\Ulrizpascuit\\Desktop\\MTH8408\\MTH8408-Hiv24\\lab3\\Lab3-notebook.ipynb:55\n",
      "┌ Info:     14   8.8e+01   8.5e+00  -1.9e-01   1.0e+00\n",
      "└ @ Main c:\\Users\\Ulrizpascuit\\Desktop\\MTH8408\\MTH8408-Hiv24\\lab3\\Lab3-notebook.ipynb:55\n",
      "┌ Info:     15   8.8e+01   1.2e+01  -1.6e-01   1.0e+00\n",
      "└ @ Main c:\\Users\\Ulrizpascuit\\Desktop\\MTH8408\\MTH8408-Hiv24\\lab3\\Lab3-notebook.ipynb:55\n",
      "┌ Info:     16   8.8e+01   6.3e+00  -1.1e-01   1.0e+00\n",
      "└ @ Main c:\\Users\\Ulrizpascuit\\Desktop\\MTH8408\\MTH8408-Hiv24\\lab3\\Lab3-notebook.ipynb:55\n",
      "┌ Info:     17   8.7e+01   6.1e+00  -1.2e-01   1.0e+00\n",
      "└ @ Main c:\\Users\\Ulrizpascuit\\Desktop\\MTH8408\\MTH8408-Hiv24\\lab3\\Lab3-notebook.ipynb:55\n",
      "┌ Info:     18   8.7e+01   7.1e+00  -8.7e-02   1.0e+00\n",
      "└ @ Main c:\\Users\\Ulrizpascuit\\Desktop\\MTH8408\\MTH8408-Hiv24\\lab3\\Lab3-notebook.ipynb:55\n",
      "┌ Info:     19   8.7e+01   6.4e+00  -6.1e-02   1.0e+00\n",
      "└ @ Main c:\\Users\\Ulrizpascuit\\Desktop\\MTH8408\\MTH8408-Hiv24\\lab3\\Lab3-notebook.ipynb:55\n",
      "┌ Info:     20   8.7e+01   5.4e+00  -1.4e-01   1.0e+00\n",
      "└ @ Main c:\\Users\\Ulrizpascuit\\Desktop\\MTH8408\\MTH8408-Hiv24\\lab3\\Lab3-notebook.ipynb:55\n",
      "┌ Info:     21   8.7e+01   7.6e+00  -2.1e-01   1.0e+00\n",
      "└ @ Main c:\\Users\\Ulrizpascuit\\Desktop\\MTH8408\\MTH8408-Hiv24\\lab3\\Lab3-notebook.ipynb:55\n",
      "┌ Info:     22   8.7e+01   1.4e+01  -2.4e-01   1.0e+00\n",
      "└ @ Main c:\\Users\\Ulrizpascuit\\Desktop\\MTH8408\\MTH8408-Hiv24\\lab3\\Lab3-notebook.ipynb:55\n",
      "┌ Info:     23   8.7e+01   1.3e+01  -1.2e+00   4.4e-01\n",
      "└ @ Main c:\\Users\\Ulrizpascuit\\Desktop\\MTH8408\\MTH8408-Hiv24\\lab3\\Lab3-notebook.ipynb:55\n",
      "┌ Info:     24   8.7e+01   2.0e+01  -7.1e-01   1.0e+00\n",
      "└ @ Main c:\\Users\\Ulrizpascuit\\Desktop\\MTH8408\\MTH8408-Hiv24\\lab3\\Lab3-notebook.ipynb:55\n",
      "┌ Info:     25   8.6e+01   1.9e+01  -6.5e-01   1.0e+00\n",
      "└ @ Main c:\\Users\\Ulrizpascuit\\Desktop\\MTH8408\\MTH8408-Hiv24\\lab3\\Lab3-notebook.ipynb:55\n",
      "┌ Info:     26   8.6e+01   1.7e+01  -5.2e-01   1.0e+00\n",
      "└ @ Main c:\\Users\\Ulrizpascuit\\Desktop\\MTH8408\\MTH8408-Hiv24\\lab3\\Lab3-notebook.ipynb:55\n",
      "┌ Info:     27   8.6e+01   1.9e+01  -1.6e+00   6.7e-01\n",
      "└ @ Main c:\\Users\\Ulrizpascuit\\Desktop\\MTH8408\\MTH8408-Hiv24\\lab3\\Lab3-notebook.ipynb:55\n",
      "┌ Info:     28   8.6e+01   4.0e+01  -8.9e-01   1.0e+00\n",
      "└ @ Main c:\\Users\\Ulrizpascuit\\Desktop\\MTH8408\\MTH8408-Hiv24\\lab3\\Lab3-notebook.ipynb:55\n",
      "┌ Info:     29   8.5e+01   1.4e+01  -3.2e-01   1.0e+00\n",
      "└ @ Main c:\\Users\\Ulrizpascuit\\Desktop\\MTH8408\\MTH8408-Hiv24\\lab3\\Lab3-notebook.ipynb:55\n",
      "┌ Info:     30   8.5e+01   1.2e+01  -3.1e-01   1.0e+00\n",
      "└ @ Main c:\\Users\\Ulrizpascuit\\Desktop\\MTH8408\\MTH8408-Hiv24\\lab3\\Lab3-notebook.ipynb:55\n",
      "┌ Info:     31   8.5e+01   1.1e+01  -2.3e-01   1.0e+00\n",
      "└ @ Main c:\\Users\\Ulrizpascuit\\Desktop\\MTH8408\\MTH8408-Hiv24\\lab3\\Lab3-notebook.ipynb:55\n",
      "┌ Info:     32   8.5e+01   1.1e+01  -1.5e-01   1.0e+00\n",
      "└ @ Main c:\\Users\\Ulrizpascuit\\Desktop\\MTH8408\\MTH8408-Hiv24\\lab3\\Lab3-notebook.ipynb:55\n",
      "┌ Info:     33   8.5e+01   6.6e+00  -5.3e-02   1.0e+00\n",
      "└ @ Main c:\\Users\\Ulrizpascuit\\Desktop\\MTH8408\\MTH8408-Hiv24\\lab3\\Lab3-notebook.ipynb:55\n",
      "┌ Info:     34   8.5e+01   7.0e+00  -2.2e-01   1.0e+00\n",
      "└ @ Main c:\\Users\\Ulrizpascuit\\Desktop\\MTH8408\\MTH8408-Hiv24\\lab3\\Lab3-notebook.ipynb:55\n",
      "┌ Info:     35   8.4e+01   9.6e+00  -5.7e-01   1.0e+00\n",
      "└ @ Main c:\\Users\\Ulrizpascuit\\Desktop\\MTH8408\\MTH8408-Hiv24\\lab3\\Lab3-notebook.ipynb:55\n",
      "┌ Info:     36   8.4e+01   2.2e+01  -5.1e-01   6.7e-01\n",
      "└ @ Main c:\\Users\\Ulrizpascuit\\Desktop\\MTH8408\\MTH8408-Hiv24\\lab3\\Lab3-notebook.ipynb:55\n",
      "┌ Info:     37   8.4e+01   2.1e+01  -9.6e-01   1.0e+00\n",
      "└ @ Main c:\\Users\\Ulrizpascuit\\Desktop\\MTH8408\\MTH8408-Hiv24\\lab3\\Lab3-notebook.ipynb:55\n",
      "┌ Info:     38   8.4e+01   2.1e+01  -5.1e-01   1.0e+00\n",
      "└ @ Main c:\\Users\\Ulrizpascuit\\Desktop\\MTH8408\\MTH8408-Hiv24\\lab3\\Lab3-notebook.ipynb:55\n",
      "┌ Info:     39   8.3e+01   1.6e+01  -2.0e-01   1.0e+00\n",
      "└ @ Main c:\\Users\\Ulrizpascuit\\Desktop\\MTH8408\\MTH8408-Hiv24\\lab3\\Lab3-notebook.ipynb:55\n",
      "┌ Info:     40   8.3e+01   1.3e+01  -3.4e-01   1.0e+00\n",
      "└ @ Main c:\\Users\\Ulrizpascuit\\Desktop\\MTH8408\\MTH8408-Hiv24\\lab3\\Lab3-notebook.ipynb:55\n",
      "┌ Info:     41   8.3e+01   1.2e+01  -3.2e-01   1.0e+00\n",
      "└ @ Main c:\\Users\\Ulrizpascuit\\Desktop\\MTH8408\\MTH8408-Hiv24\\lab3\\Lab3-notebook.ipynb:55\n",
      "┌ Info:     42   8.3e+01   1.5e+01  -9.1e-01   1.0e+00\n",
      "└ @ Main c:\\Users\\Ulrizpascuit\\Desktop\\MTH8408\\MTH8408-Hiv24\\lab3\\Lab3-notebook.ipynb:55\n",
      "┌ Info:     43   8.2e+01   2.7e+01  -8.8e-01   1.0e+00\n",
      "└ @ Main c:\\Users\\Ulrizpascuit\\Desktop\\MTH8408\\MTH8408-Hiv24\\lab3\\Lab3-notebook.ipynb:55\n",
      "┌ Info:     44   8.2e+01   2.2e+01  -5.0e-01   1.0e+00\n",
      "└ @ Main c:\\Users\\Ulrizpascuit\\Desktop\\MTH8408\\MTH8408-Hiv24\\lab3\\Lab3-notebook.ipynb:55\n",
      "┌ Info:     45   8.2e+01   1.3e+01  -4.1e-01   1.0e+00\n",
      "└ @ Main c:\\Users\\Ulrizpascuit\\Desktop\\MTH8408\\MTH8408-Hiv24\\lab3\\Lab3-notebook.ipynb:55\n",
      "┌ Info:     46   8.1e+01   1.2e+01  -3.2e-01   1.0e+00\n",
      "└ @ Main c:\\Users\\Ulrizpascuit\\Desktop\\MTH8408\\MTH8408-Hiv24\\lab3\\Lab3-notebook.ipynb:55\n",
      "┌ Info:     47   8.1e+01   1.2e+01  -3.5e-01   1.0e+00\n",
      "└ @ Main c:\\Users\\Ulrizpascuit\\Desktop\\MTH8408\\MTH8408-Hiv24\\lab3\\Lab3-notebook.ipynb:55\n",
      "┌ Info:     48   8.1e+01   1.2e+01  -1.6e-01   1.0e+00\n",
      "└ @ Main c:\\Users\\Ulrizpascuit\\Desktop\\MTH8408\\MTH8408-Hiv24\\lab3\\Lab3-notebook.ipynb:55\n",
      "┌ Info:     49   8.1e+01   7.8e+00  -2.2e-01   1.0e+00\n",
      "└ @ Main c:\\Users\\Ulrizpascuit\\Desktop\\MTH8408\\MTH8408-Hiv24\\lab3\\Lab3-notebook.ipynb:55\n",
      "┌ Info:     50   8.1e+01   1.2e+01  -4.4e-01   1.0e+00\n",
      "└ @ Main c:\\Users\\Ulrizpascuit\\Desktop\\MTH8408\\MTH8408-Hiv24\\lab3\\Lab3-notebook.ipynb:55\n",
      "┌ Info:     51   8.0e+01   2.4e+01  -6.9e-01   1.0e+00\n",
      "└ @ Main c:\\Users\\Ulrizpascuit\\Desktop\\MTH8408\\MTH8408-Hiv24\\lab3\\Lab3-notebook.ipynb:55\n",
      "┌ Info:     52   8.0e+01   3.3e+01  -1.2e+00   1.0e+00\n",
      "└ @ Main c:\\Users\\Ulrizpascuit\\Desktop\\MTH8408\\MTH8408-Hiv24\\lab3\\Lab3-notebook.ipynb:55\n",
      "┌ Info:     53   8.0e+01   3.1e+01  -8.2e-01   1.0e+00\n",
      "└ @ Main c:\\Users\\Ulrizpascuit\\Desktop\\MTH8408\\MTH8408-Hiv24\\lab3\\Lab3-notebook.ipynb:55\n",
      "┌ Info:     54   7.9e+01   1.7e+01  -5.0e-01   1.0e+00\n",
      "└ @ Main c:\\Users\\Ulrizpascuit\\Desktop\\MTH8408\\MTH8408-Hiv24\\lab3\\Lab3-notebook.ipynb:55\n",
      "┌ Info:     55   7.9e+01   1.6e+01  -6.7e-01   1.0e+00\n",
      "└ @ Main c:\\Users\\Ulrizpascuit\\Desktop\\MTH8408\\MTH8408-Hiv24\\lab3\\Lab3-notebook.ipynb:55\n",
      "┌ Info:     56   7.9e+01   2.5e+01  -5.9e-01   1.0e+00\n",
      "└ @ Main c:\\Users\\Ulrizpascuit\\Desktop\\MTH8408\\MTH8408-Hiv24\\lab3\\Lab3-notebook.ipynb:55\n",
      "┌ Info:     57   7.8e+01   1.2e+01  -1.9e-01   1.0e+00\n",
      "└ @ Main c:\\Users\\Ulrizpascuit\\Desktop\\MTH8408\\MTH8408-Hiv24\\lab3\\Lab3-notebook.ipynb:55\n",
      "┌ Info:     58   7.8e+01   1.1e+01  -3.3e-01   1.0e+00\n",
      "└ @ Main c:\\Users\\Ulrizpascuit\\Desktop\\MTH8408\\MTH8408-Hiv24\\lab3\\Lab3-notebook.ipynb:55\n",
      "┌ Info:     59   7.8e+01   1.1e+01  -3.9e-01   1.0e+00\n",
      "└ @ Main c:\\Users\\Ulrizpascuit\\Desktop\\MTH8408\\MTH8408-Hiv24\\lab3\\Lab3-notebook.ipynb:55\n",
      "┌ Info:     60   7.8e+01   1.9e+01  -2.6e-01   1.0e+00\n",
      "└ @ Main c:\\Users\\Ulrizpascuit\\Desktop\\MTH8408\\MTH8408-Hiv24\\lab3\\Lab3-notebook.ipynb:55\n",
      "┌ Info:     61   7.8e+01   1.0e+01  -1.8e-01   1.0e+00\n",
      "└ @ Main c:\\Users\\Ulrizpascuit\\Desktop\\MTH8408\\MTH8408-Hiv24\\lab3\\Lab3-notebook.ipynb:55\n",
      "┌ Info:     62   7.8e+01   1.1e+01  -4.0e-01   1.0e+00\n",
      "└ @ Main c:\\Users\\Ulrizpascuit\\Desktop\\MTH8408\\MTH8408-Hiv24\\lab3\\Lab3-notebook.ipynb:55\n",
      "┌ Info:     63   7.7e+01   1.9e+01  -6.4e-01   1.0e+00\n",
      "└ @ Main c:\\Users\\Ulrizpascuit\\Desktop\\MTH8408\\MTH8408-Hiv24\\lab3\\Lab3-notebook.ipynb:55\n",
      "┌ Info:     64   7.7e+01   2.7e+01  -5.7e-01   1.0e+00\n",
      "└ @ Main c:\\Users\\Ulrizpascuit\\Desktop\\MTH8408\\MTH8408-Hiv24\\lab3\\Lab3-notebook.ipynb:55\n",
      "┌ Info:     65   7.7e+01   2.3e+01  -8.0e-01   1.0e+00\n",
      "└ @ Main c:\\Users\\Ulrizpascuit\\Desktop\\MTH8408\\MTH8408-Hiv24\\lab3\\Lab3-notebook.ipynb:55\n",
      "┌ Info:     66   7.6e+01   1.5e+01  -7.4e-01   6.7e-01\n",
      "└ @ Main c:\\Users\\Ulrizpascuit\\Desktop\\MTH8408\\MTH8408-Hiv24\\lab3\\Lab3-notebook.ipynb:55\n",
      "┌ Info:     67   7.6e+01   1.6e+01  -4.4e-01   1.0e+00\n",
      "└ @ Main c:\\Users\\Ulrizpascuit\\Desktop\\MTH8408\\MTH8408-Hiv24\\lab3\\Lab3-notebook.ipynb:55\n",
      "┌ Info:     68   7.6e+01   1.6e+01  -6.4e-01   1.0e+00\n",
      "└ @ Main c:\\Users\\Ulrizpascuit\\Desktop\\MTH8408\\MTH8408-Hiv24\\lab3\\Lab3-notebook.ipynb:55\n",
      "┌ Info:     69   7.6e+01   2.7e+01  -5.1e-01   1.0e+00\n",
      "└ @ Main c:\\Users\\Ulrizpascuit\\Desktop\\MTH8408\\MTH8408-Hiv24\\lab3\\Lab3-notebook.ipynb:55\n"
     ]
    },
    {
     "name": "stderr",
     "output_type": "stream",
     "text": [
      "┌ Info:     70   7.5e+01   1.5e+01  -6.4e-01   1.0e+00\n",
      "└ @ Main c:\\Users\\Ulrizpascuit\\Desktop\\MTH8408\\MTH8408-Hiv24\\lab3\\Lab3-notebook.ipynb:55\n",
      "┌ Info:     71   7.5e+01   1.7e+01  -4.7e-01   1.0e+00\n",
      "└ @ Main c:\\Users\\Ulrizpascuit\\Desktop\\MTH8408\\MTH8408-Hiv24\\lab3\\Lab3-notebook.ipynb:55\n",
      "┌ Info:     72   7.5e+01   1.3e+01  -2.9e-01   1.0e+00\n",
      "└ @ Main c:\\Users\\Ulrizpascuit\\Desktop\\MTH8408\\MTH8408-Hiv24\\lab3\\Lab3-notebook.ipynb:55\n",
      "┌ Info:     73   7.4e+01   8.6e+00  -2.5e-01   1.0e+00\n",
      "└ @ Main c:\\Users\\Ulrizpascuit\\Desktop\\MTH8408\\MTH8408-Hiv24\\lab3\\Lab3-notebook.ipynb:55\n",
      "┌ Info:     74   7.4e+01   9.0e+00  -1.9e-01   1.0e+00\n",
      "└ @ Main c:\\Users\\Ulrizpascuit\\Desktop\\MTH8408\\MTH8408-Hiv24\\lab3\\Lab3-notebook.ipynb:55\n",
      "┌ Info:     75   7.4e+01   1.1e+01  -1.7e-01   1.0e+00\n",
      "└ @ Main c:\\Users\\Ulrizpascuit\\Desktop\\MTH8408\\MTH8408-Hiv24\\lab3\\Lab3-notebook.ipynb:55\n",
      "┌ Info:     76   7.4e+01   9.1e+00  -6.8e-01   1.0e+00\n",
      "└ @ Main c:\\Users\\Ulrizpascuit\\Desktop\\MTH8408\\MTH8408-Hiv24\\lab3\\Lab3-notebook.ipynb:55\n",
      "┌ Info:     77   7.4e+01   1.8e+01  -7.4e-01   1.0e+00\n",
      "└ @ Main c:\\Users\\Ulrizpascuit\\Desktop\\MTH8408\\MTH8408-Hiv24\\lab3\\Lab3-notebook.ipynb:55\n",
      "┌ Info:     78   7.3e+01   2.5e+01  -4.9e-01   1.0e+00\n",
      "└ @ Main c:\\Users\\Ulrizpascuit\\Desktop\\MTH8408\\MTH8408-Hiv24\\lab3\\Lab3-notebook.ipynb:55\n",
      "┌ Info:     79   7.3e+01   1.3e+01  -6.9e-01   6.7e-01\n",
      "└ @ Main c:\\Users\\Ulrizpascuit\\Desktop\\MTH8408\\MTH8408-Hiv24\\lab3\\Lab3-notebook.ipynb:55\n",
      "┌ Info:     80   7.3e+01   1.6e+01  -7.5e-01   1.0e+00\n",
      "└ @ Main c:\\Users\\Ulrizpascuit\\Desktop\\MTH8408\\MTH8408-Hiv24\\lab3\\Lab3-notebook.ipynb:55\n",
      "┌ Info:     81   7.3e+01   1.9e+01  -4.1e-01   1.0e+00\n",
      "└ @ Main c:\\Users\\Ulrizpascuit\\Desktop\\MTH8408\\MTH8408-Hiv24\\lab3\\Lab3-notebook.ipynb:55\n",
      "┌ Info:     82   7.2e+01   1.5e+01  -1.9e-01   1.0e+00\n",
      "└ @ Main c:\\Users\\Ulrizpascuit\\Desktop\\MTH8408\\MTH8408-Hiv24\\lab3\\Lab3-notebook.ipynb:55\n",
      "┌ Info:     83   7.2e+01   1.2e+01  -5.3e-01   1.0e+00\n",
      "└ @ Main c:\\Users\\Ulrizpascuit\\Desktop\\MTH8408\\MTH8408-Hiv24\\lab3\\Lab3-notebook.ipynb:55\n",
      "┌ Info:     84   7.2e+01   1.5e+01  -5.9e-01   1.0e+00\n",
      "└ @ Main c:\\Users\\Ulrizpascuit\\Desktop\\MTH8408\\MTH8408-Hiv24\\lab3\\Lab3-notebook.ipynb:55\n",
      "┌ Info:     85   7.2e+01   2.3e+01  -8.9e-01   1.0e+00\n",
      "└ @ Main c:\\Users\\Ulrizpascuit\\Desktop\\MTH8408\\MTH8408-Hiv24\\lab3\\Lab3-notebook.ipynb:55\n",
      "┌ Info:     86   7.1e+01   2.1e+01  -8.3e-01   1.0e+00\n",
      "└ @ Main c:\\Users\\Ulrizpascuit\\Desktop\\MTH8408\\MTH8408-Hiv24\\lab3\\Lab3-notebook.ipynb:55\n",
      "┌ Info:     87   7.1e+01   2.9e+01  -5.2e-01   1.0e+00\n",
      "└ @ Main c:\\Users\\Ulrizpascuit\\Desktop\\MTH8408\\MTH8408-Hiv24\\lab3\\Lab3-notebook.ipynb:55\n",
      "┌ Info:     88   7.1e+01   1.3e+01  -2.0e-01   1.0e+00\n",
      "└ @ Main c:\\Users\\Ulrizpascuit\\Desktop\\MTH8408\\MTH8408-Hiv24\\lab3\\Lab3-notebook.ipynb:55\n",
      "┌ Info:     89   7.0e+01   8.9e+00  -1.8e-01   1.0e+00\n",
      "└ @ Main c:\\Users\\Ulrizpascuit\\Desktop\\MTH8408\\MTH8408-Hiv24\\lab3\\Lab3-notebook.ipynb:55\n",
      "┌ Info:     90   7.0e+01   1.1e+01  -3.9e-01   1.0e+00\n",
      "└ @ Main c:\\Users\\Ulrizpascuit\\Desktop\\MTH8408\\MTH8408-Hiv24\\lab3\\Lab3-notebook.ipynb:55\n",
      "┌ Info:     91   7.0e+01   1.4e+01  -3.6e-01   1.0e+00\n",
      "└ @ Main c:\\Users\\Ulrizpascuit\\Desktop\\MTH8408\\MTH8408-Hiv24\\lab3\\Lab3-notebook.ipynb:55\n",
      "┌ Info:     92   7.0e+01   1.7e+01  -2.0e-01   1.0e+00\n",
      "└ @ Main c:\\Users\\Ulrizpascuit\\Desktop\\MTH8408\\MTH8408-Hiv24\\lab3\\Lab3-notebook.ipynb:55\n",
      "┌ Info:     93   7.0e+01   1.2e+01  -4.3e-01   1.0e+00\n",
      "└ @ Main c:\\Users\\Ulrizpascuit\\Desktop\\MTH8408\\MTH8408-Hiv24\\lab3\\Lab3-notebook.ipynb:55\n",
      "┌ Info:     94   6.9e+01   1.2e+01  -1.1e+00   6.7e-01\n",
      "└ @ Main c:\\Users\\Ulrizpascuit\\Desktop\\MTH8408\\MTH8408-Hiv24\\lab3\\Lab3-notebook.ipynb:55\n",
      "┌ Info:     95   6.9e+01   2.5e+01  -1.4e+00   6.7e-01\n",
      "└ @ Main c:\\Users\\Ulrizpascuit\\Desktop\\MTH8408\\MTH8408-Hiv24\\lab3\\Lab3-notebook.ipynb:55\n",
      "┌ Info:     96   6.9e+01   2.8e+01  -8.1e-01   1.0e+00\n",
      "└ @ Main c:\\Users\\Ulrizpascuit\\Desktop\\MTH8408\\MTH8408-Hiv24\\lab3\\Lab3-notebook.ipynb:55\n",
      "┌ Info:     97   6.9e+01   2.0e+01  -2.8e-01   1.0e+00\n",
      "└ @ Main c:\\Users\\Ulrizpascuit\\Desktop\\MTH8408\\MTH8408-Hiv24\\lab3\\Lab3-notebook.ipynb:55\n",
      "┌ Info:     98   6.9e+01   1.1e+01  -2.2e-01   1.0e+00\n",
      "└ @ Main c:\\Users\\Ulrizpascuit\\Desktop\\MTH8408\\MTH8408-Hiv24\\lab3\\Lab3-notebook.ipynb:55\n",
      "┌ Info:     99   6.8e+01   9.5e+00  -3.0e-01   1.0e+00\n",
      "└ @ Main c:\\Users\\Ulrizpascuit\\Desktop\\MTH8408\\MTH8408-Hiv24\\lab3\\Lab3-notebook.ipynb:55\n",
      "┌ Info:    100   6.8e+01   1.5e+01  -6.5e-01   1.0e+00\n",
      "└ @ Main c:\\Users\\Ulrizpascuit\\Desktop\\MTH8408\\MTH8408-Hiv24\\lab3\\Lab3-notebook.ipynb:55\n",
      "┌ Info:    101   6.8e+01   2.6e+01  -1.6e+00   1.0e+00\n",
      "└ @ Main c:\\Users\\Ulrizpascuit\\Desktop\\MTH8408\\MTH8408-Hiv24\\lab3\\Lab3-notebook.ipynb:55\n",
      "┌ Info:    102   6.7e+01   5.4e+01  -4.5e+00   4.4e-01\n",
      "└ @ Main c:\\Users\\Ulrizpascuit\\Desktop\\MTH8408\\MTH8408-Hiv24\\lab3\\Lab3-notebook.ipynb:55\n",
      "┌ Info:    103   6.7e+01   6.5e+01  -4.8e+00   1.0e+00\n",
      "└ @ Main c:\\Users\\Ulrizpascuit\\Desktop\\MTH8408\\MTH8408-Hiv24\\lab3\\Lab3-notebook.ipynb:55\n",
      "┌ Info:    104   6.4e+01   5.7e+01  -1.2e+01   1.0e+00\n",
      "└ @ Main c:\\Users\\Ulrizpascuit\\Desktop\\MTH8408\\MTH8408-Hiv24\\lab3\\Lab3-notebook.ipynb:55\n",
      "┌ Info:    105   4.5e+01   1.8e+02  -3.7e+01   6.7e-01\n",
      "└ @ Main c:\\Users\\Ulrizpascuit\\Desktop\\MTH8408\\MTH8408-Hiv24\\lab3\\Lab3-notebook.ipynb:55\n",
      "┌ Info:    106   3.4e+01   2.5e+02  -1.4e+02   2.0e-01\n",
      "└ @ Main c:\\Users\\Ulrizpascuit\\Desktop\\MTH8408\\MTH8408-Hiv24\\lab3\\Lab3-notebook.ipynb:55\n",
      "┌ Info:    107   2.6e+01   2.4e+02  -6.3e+01   1.0e+00\n",
      "└ @ Main c:\\Users\\Ulrizpascuit\\Desktop\\MTH8408\\MTH8408-Hiv24\\lab3\\Lab3-notebook.ipynb:55\n",
      "┌ Info:    108   1.7e+01   1.9e+02  -3.1e+01   1.0e+00\n",
      "└ @ Main c:\\Users\\Ulrizpascuit\\Desktop\\MTH8408\\MTH8408-Hiv24\\lab3\\Lab3-notebook.ipynb:55\n",
      "┌ Info:    109   5.1e+00   6.0e+01  -8.8e+00   1.0e+00\n",
      "└ @ Main c:\\Users\\Ulrizpascuit\\Desktop\\MTH8408\\MTH8408-Hiv24\\lab3\\Lab3-notebook.ipynb:55\n",
      "┌ Info:    110   3.2e+00   4.8e+01  -6.6e+00   1.0e+00\n",
      "└ @ Main c:\\Users\\Ulrizpascuit\\Desktop\\MTH8408\\MTH8408-Hiv24\\lab3\\Lab3-notebook.ipynb:55\n",
      "┌ Info:    111   2.4e+00   5.5e+01  -3.1e+00   1.0e+00\n",
      "└ @ Main c:\\Users\\Ulrizpascuit\\Desktop\\MTH8408\\MTH8408-Hiv24\\lab3\\Lab3-notebook.ipynb:55\n",
      "┌ Info:    112   1.2e+00   2.3e+01  -3.6e-01   1.0e+00\n",
      "└ @ Main c:\\Users\\Ulrizpascuit\\Desktop\\MTH8408\\MTH8408-Hiv24\\lab3\\Lab3-notebook.ipynb:55\n",
      "┌ Info:    113   1.0e+00   3.0e+00  -6.8e-03   1.0e+00\n",
      "└ @ Main c:\\Users\\Ulrizpascuit\\Desktop\\MTH8408\\MTH8408-Hiv24\\lab3\\Lab3-notebook.ipynb:55\n",
      "┌ Info:    114   1.0e+00   1.8e+00  -6.4e-03   1.0e+00\n",
      "└ @ Main c:\\Users\\Ulrizpascuit\\Desktop\\MTH8408\\MTH8408-Hiv24\\lab3\\Lab3-notebook.ipynb:55\n",
      "┌ Info:    115   1.0e+00   1.1e+00  -3.4e-03   1.0e+00\n",
      "└ @ Main c:\\Users\\Ulrizpascuit\\Desktop\\MTH8408\\MTH8408-Hiv24\\lab3\\Lab3-notebook.ipynb:55\n",
      "┌ Info:    116   1.0e+00   1.2e+00  -1.3e-03   1.0e+00\n",
      "└ @ Main c:\\Users\\Ulrizpascuit\\Desktop\\MTH8408\\MTH8408-Hiv24\\lab3\\Lab3-notebook.ipynb:55\n",
      "┌ Info:    117   1.0e+00   7.2e-01  -3.3e-04   1.0e+00\n",
      "└ @ Main c:\\Users\\Ulrizpascuit\\Desktop\\MTH8408\\MTH8408-Hiv24\\lab3\\Lab3-notebook.ipynb:55\n",
      "┌ Info:    118   1.0e+00   1.3e-01  -1.4e-05   1.0e+00\n",
      "└ @ Main c:\\Users\\Ulrizpascuit\\Desktop\\MTH8408\\MTH8408-Hiv24\\lab3\\Lab3-notebook.ipynb:55\n",
      "┌ Info:    119   1.0e+00   8.7e-02  -2.3e-05   1.0e+00\n",
      "└ @ Main c:\\Users\\Ulrizpascuit\\Desktop\\MTH8408\\MTH8408-Hiv24\\lab3\\Lab3-notebook.ipynb:55\n",
      "┌ Info:    120   1.0e+00   6.1e-02  -5.7e-06   6.7e-01\n",
      "└ @ Main c:\\Users\\Ulrizpascuit\\Desktop\\MTH8408\\MTH8408-Hiv24\\lab3\\Lab3-notebook.ipynb:55\n",
      "┌ Info:    121   1.0e+00   4.4e-02  -9.0e-07   1.0e+00\n",
      "└ @ Main c:\\Users\\Ulrizpascuit\\Desktop\\MTH8408\\MTH8408-Hiv24\\lab3\\Lab3-notebook.ipynb:55\n",
      "┌ Info:    122   1.0e+00   2.0e-02  -5.1e-07   1.0e+00\n",
      "└ @ Main c:\\Users\\Ulrizpascuit\\Desktop\\MTH8408\\MTH8408-Hiv24\\lab3\\Lab3-notebook.ipynb:55\n",
      "┌ Info:    123   1.0e+00   1.5e-02  -7.4e-07   1.0e+00\n",
      "└ @ Main c:\\Users\\Ulrizpascuit\\Desktop\\MTH8408\\MTH8408-Hiv24\\lab3\\Lab3-notebook.ipynb:55\n",
      "┌ Info:    124   1.0e+00   2.1e-02  -1.1e-06   1.0e+00\n",
      "└ @ Main c:\\Users\\Ulrizpascuit\\Desktop\\MTH8408\\MTH8408-Hiv24\\lab3\\Lab3-notebook.ipynb:55\n",
      "┌ Info:    125   1.0e+00   3.0e-02  -3.6e-06   1.0e+00\n",
      "└ @ Main c:\\Users\\Ulrizpascuit\\Desktop\\MTH8408\\MTH8408-Hiv24\\lab3\\Lab3-notebook.ipynb:55\n",
      "┌ Info:    126   1.0e+00   5.6e-02  -6.9e-06   1.0e+00\n",
      "└ @ Main c:\\Users\\Ulrizpascuit\\Desktop\\MTH8408\\MTH8408-Hiv24\\lab3\\Lab3-notebook.ipynb:55\n",
      "┌ Info:    127   1.0e+00   7.0e-02  -1.1e-05   1.0e+00\n",
      "└ @ Main c:\\Users\\Ulrizpascuit\\Desktop\\MTH8408\\MTH8408-Hiv24\\lab3\\Lab3-notebook.ipynb:55\n",
      "┌ Info:    128   1.0e+00   8.4e-02  -6.4e-05   1.0e+00\n",
      "└ @ Main c:\\Users\\Ulrizpascuit\\Desktop\\MTH8408\\MTH8408-Hiv24\\lab3\\Lab3-notebook.ipynb:55\n",
      "┌ Info:    129   1.0e+00   1.9e-01  -8.2e-05   1.0e+00\n",
      "└ @ Main c:\\Users\\Ulrizpascuit\\Desktop\\MTH8408\\MTH8408-Hiv24\\lab3\\Lab3-notebook.ipynb:55\n",
      "┌ Info:    130   1.0e+00   1.9e-01  -5.6e-05   1.0e+00\n",
      "└ @ Main c:\\Users\\Ulrizpascuit\\Desktop\\MTH8408\\MTH8408-Hiv24\\lab3\\Lab3-notebook.ipynb:55\n",
      "┌ Info:    131   1.0e+00   1.3e-01  -6.2e-05   1.0e+00\n",
      "└ @ Main c:\\Users\\Ulrizpascuit\\Desktop\\MTH8408\\MTH8408-Hiv24\\lab3\\Lab3-notebook.ipynb:55\n",
      "┌ Info:    132   1.0e+00   1.1e-01  -1.4e-05   1.0e+00\n",
      "└ @ Main c:\\Users\\Ulrizpascuit\\Desktop\\MTH8408\\MTH8408-Hiv24\\lab3\\Lab3-notebook.ipynb:55\n",
      "┌ Info:    133   1.0e+00   8.2e-02  -3.8e-06   1.0e+00\n",
      "└ @ Main c:\\Users\\Ulrizpascuit\\Desktop\\MTH8408\\MTH8408-Hiv24\\lab3\\Lab3-notebook.ipynb:55\n",
      "┌ Info:    134   1.0e+00   1.9e-02  -2.9e-07   1.0e+00\n",
      "└ @ Main c:\\Users\\Ulrizpascuit\\Desktop\\MTH8408\\MTH8408-Hiv24\\lab3\\Lab3-notebook.ipynb:55\n",
      "┌ Info:    135   1.0e+00   1.1e-02  -3.9e-07   1.0e+00\n",
      "└ @ Main c:\\Users\\Ulrizpascuit\\Desktop\\MTH8408\\MTH8408-Hiv24\\lab3\\Lab3-notebook.ipynb:55\n",
      "┌ Info:    136   1.0e+00   5.0e-03  -5.5e-08   1.0e+00\n",
      "└ @ Main c:\\Users\\Ulrizpascuit\\Desktop\\MTH8408\\MTH8408-Hiv24\\lab3\\Lab3-notebook.ipynb:55\n",
      "┌ Info:    137   1.0e+00   7.8e-03  -3.3e-08   1.0e+00\n",
      "└ @ Main c:\\Users\\Ulrizpascuit\\Desktop\\MTH8408\\MTH8408-Hiv24\\lab3\\Lab3-notebook.ipynb:55\n",
      "┌ Info:    138   1.0e+00   1.5e-03  -1.5e-09   1.0e+00\n",
      "└ @ Main c:\\Users\\Ulrizpascuit\\Desktop\\MTH8408\\MTH8408-Hiv24\\lab3\\Lab3-notebook.ipynb:55\n",
      "┌ Info:    139   1.0e+00   7.4e-04  -1.1e-09   1.0e+00\n",
      "└ @ Main c:\\Users\\Ulrizpascuit\\Desktop\\MTH8408\\MTH8408-Hiv24\\lab3\\Lab3-notebook.ipynb:55\n"
     ]
    },
    {
     "name": "stderr",
     "output_type": "stream",
     "text": [
      "┌ Info:    140   1.0e+00   5.6e-04  -4.5e-10   1.0e+00\n",
      "└ @ Main c:\\Users\\Ulrizpascuit\\Desktop\\MTH8408\\MTH8408-Hiv24\\lab3\\Lab3-notebook.ipynb:55\n",
      "┌ Info:    141   1.0e+00   5.7e-04  -1.1e-09   1.0e+00\n",
      "└ @ Main c:\\Users\\Ulrizpascuit\\Desktop\\MTH8408\\MTH8408-Hiv24\\lab3\\Lab3-notebook.ipynb:55\n",
      "┌ Info:    142   1.0e+00   9.3e-04  -6.7e-10   1.0e+00\n",
      "└ @ Main c:\\Users\\Ulrizpascuit\\Desktop\\MTH8408\\MTH8408-Hiv24\\lab3\\Lab3-notebook.ipynb:55\n",
      "┌ Info:    143   1.0e+00   5.3e-04  -1.8e-10   1.0e+00\n",
      "└ @ Main c:\\Users\\Ulrizpascuit\\Desktop\\MTH8408\\MTH8408-Hiv24\\lab3\\Lab3-notebook.ipynb:55\n",
      "┌ Info:    144   1.0e+00   3.9e-04  -4.5e-10   1.0e+00\n",
      "└ @ Main c:\\Users\\Ulrizpascuit\\Desktop\\MTH8408\\MTH8408-Hiv24\\lab3\\Lab3-notebook.ipynb:55\n",
      "┌ Info:    145   1.0e+00   3.6e-04  -6.0e-10   1.0e+00\n",
      "└ @ Main c:\\Users\\Ulrizpascuit\\Desktop\\MTH8408\\MTH8408-Hiv24\\lab3\\Lab3-notebook.ipynb:55\n",
      "┌ Info:    146   1.0e+00   6.0e-04  -1.4e-09   1.0e+00\n",
      "└ @ Main c:\\Users\\Ulrizpascuit\\Desktop\\MTH8408\\MTH8408-Hiv24\\lab3\\Lab3-notebook.ipynb:55\n",
      "┌ Info:    147   1.0e+00   8.8e-04  -1.4e-09   1.0e+00\n",
      "└ @ Main c:\\Users\\Ulrizpascuit\\Desktop\\MTH8408\\MTH8408-Hiv24\\lab3\\Lab3-notebook.ipynb:55\n",
      "┌ Info:    148   1.0e+00   7.6e-04  -9.8e-10   1.0e+00\n",
      "└ @ Main c:\\Users\\Ulrizpascuit\\Desktop\\MTH8408\\MTH8408-Hiv24\\lab3\\Lab3-notebook.ipynb:55\n",
      "┌ Info:    149   1.0e+00   5.2e-04  -4.3e-10   1.0e+00\n",
      "└ @ Main c:\\Users\\Ulrizpascuit\\Desktop\\MTH8408\\MTH8408-Hiv24\\lab3\\Lab3-notebook.ipynb:55\n",
      "┌ Info:    150   1.0e+00   4.4e-04  -1.2e-10   1.0e+00\n",
      "└ @ Main c:\\Users\\Ulrizpascuit\\Desktop\\MTH8408\\MTH8408-Hiv24\\lab3\\Lab3-notebook.ipynb:55\n",
      "┌ Info:    151   1.0e+00   1.1e-04  -1.1e-11   1.0e+00\n",
      "└ @ Main c:\\Users\\Ulrizpascuit\\Desktop\\MTH8408\\MTH8408-Hiv24\\lab3\\Lab3-notebook.ipynb:55\n",
      "┌ Info:    152   1.0e+00   7.8e-05  -2.1e-11   1.0e+00\n",
      "└ @ Main c:\\Users\\Ulrizpascuit\\Desktop\\MTH8408\\MTH8408-Hiv24\\lab3\\Lab3-notebook.ipynb:55\n",
      "┌ Info:    153   1.0e+00   4.8e-05  -4.9e-12   6.7e-01\n",
      "└ @ Main c:\\Users\\Ulrizpascuit\\Desktop\\MTH8408\\MTH8408-Hiv24\\lab3\\Lab3-notebook.ipynb:55\n",
      "┌ Info:    154   1.0e+00   5.1e-05  -1.3e-12   1.0e+00\n",
      "└ @ Main c:\\Users\\Ulrizpascuit\\Desktop\\MTH8408\\MTH8408-Hiv24\\lab3\\Lab3-notebook.ipynb:55\n",
      "┌ Info:    155   1.0e+00   1.4e-05  -2.2e-13   1.0e+00\n",
      "└ @ Main c:\\Users\\Ulrizpascuit\\Desktop\\MTH8408\\MTH8408-Hiv24\\lab3\\Lab3-notebook.ipynb:55\n",
      "┌ Info:    156   1.0e+00   9.6e-06  -1.6e-13   1.0e+00\n",
      "└ @ Main c:\\Users\\Ulrizpascuit\\Desktop\\MTH8408\\MTH8408-Hiv24\\lab3\\Lab3-notebook.ipynb:55\n",
      "┌ Info:    157   1.0e+00   7.6e-06  -1.1e-13   1.0e+00\n",
      "└ @ Main c:\\Users\\Ulrizpascuit\\Desktop\\MTH8408\\MTH8408-Hiv24\\lab3\\Lab3-notebook.ipynb:55\n",
      "┌ Info:    158   1.0e+00   6.0e-06  -5.3e-14   1.0e+00\n",
      "└ @ Main c:\\Users\\Ulrizpascuit\\Desktop\\MTH8408\\MTH8408-Hiv24\\lab3\\Lab3-notebook.ipynb:55\n",
      "┌ Info:    159   1.0e+00   6.4e-06  -2.0e-14   1.0e+00\n",
      "└ @ Main c:\\Users\\Ulrizpascuit\\Desktop\\MTH8408\\MTH8408-Hiv24\\lab3\\Lab3-notebook.ipynb:55\n",
      "┌ Info:    160   1.0e+00   2.7e-06  -1.0e-14   1.0e+00\n",
      "└ @ Main c:\\Users\\Ulrizpascuit\\Desktop\\MTH8408\\MTH8408-Hiv24\\lab3\\Lab3-notebook.ipynb:55\n",
      "┌ Info:    161   1.0e+00   1.6e-06  -8.8e-15   1.0e+00\n",
      "└ @ Main c:\\Users\\Ulrizpascuit\\Desktop\\MTH8408\\MTH8408-Hiv24\\lab3\\Lab3-notebook.ipynb:55\n",
      "┌ Info:    162   1.0e+00   1.5e-06  -7.3e-15   1.0e+00\n",
      "└ @ Main c:\\Users\\Ulrizpascuit\\Desktop\\MTH8408\\MTH8408-Hiv24\\lab3\\Lab3-notebook.ipynb:55\n",
      "┌ Info:    163   1.0e+00   3.3e-06  -5.9e-15   1.0e+00\n",
      "└ @ Main c:\\Users\\Ulrizpascuit\\Desktop\\MTH8408\\MTH8408-Hiv24\\lab3\\Lab3-notebook.ipynb:55\n",
      "┌ Info:    164   1.0e+00   6.0e-07\n",
      "└ @ Main c:\\Users\\Ulrizpascuit\\Desktop\\MTH8408\\MTH8408-Hiv24\\lab3\\Lab3-notebook.ipynb:79\n"
     ]
    },
    {
     "data": {
      "text/plain": [
       "\"Execution stats: first-order stationary\""
      ]
     },
     "metadata": {},
     "output_type": "display_data"
    }
   ],
   "source": [
    "x0 = zeros(100)\n",
    "limited_bfgs(model)"
   ]
  },
  {
   "cell_type": "markdown",
   "metadata": {},
   "source": [
    "## Exercice 2: NewtonCG"
   ]
  },
  {
   "cell_type": "code",
   "execution_count": 12,
   "metadata": {},
   "outputs": [
    {
     "data": {
      "text/plain": [
       "cg_optim (generic function with 1 method)"
      ]
     },
     "metadata": {},
     "output_type": "display_data"
    }
   ],
   "source": [
    "function cg_optim(H, ∇f)\n",
    "    #setup the tolerance:\n",
    "    n∇f = norm(∇f)\n",
    "    #####################################\n",
    "    ϵk = min(0.5, sqrt(n∇f))*n∇f\n",
    "    #################################### \n",
    "    n = length(∇f)\n",
    "    z = zeros(n)\n",
    "    r = ∇f\n",
    "    d = -r\n",
    "    \n",
    "    j = 0\n",
    "    while norm(r) ≥ ϵk && j < 3 * n\n",
    "     ###############################################\n",
    "        if dot(d, H * d) ≤ 0\n",
    "            if j == 0\n",
    "                p = -∇f\n",
    "            else\n",
    "                p = z\n",
    "            end\n",
    "        end\n",
    "     ##############################################\n",
    "        α = r' * r / (d' * H * d)\n",
    "     ##############################################        \n",
    "        z += α * d\n",
    "        nrr2 = dot(r, r)\n",
    "        r += α * H * d\n",
    "     ##############################################\n",
    "        β  = r' * r / nrr2\n",
    "     ##############################################\n",
    "        d  = -r + β * d\n",
    "        j += 1\n",
    "   end\n",
    "   return z\n",
    "end"
   ]
  },
  {
   "cell_type": "code",
   "execution_count": 13,
   "metadata": {},
   "outputs": [
    {
     "data": {
      "text/plain": [
       "armijo_Newton_cg (generic function with 1 method)"
      ]
     },
     "metadata": {},
     "output_type": "display_data"
    }
   ],
   "source": [
    "function armijo_Newton_cg(nlp      :: AbstractNLPModel;\n",
    "                          x        :: AbstractVector = nlp.meta.x0,\n",
    "                          atol     :: Real = √eps(eltype(x)), \n",
    "                          rtol     :: Real = √eps(eltype(x)),\n",
    "                          max_eval :: Int = -1,\n",
    "                          max_time :: Float64 = 30.0,\n",
    "                          f_min    :: Float64 = -1.0e16)\n",
    "  start_time = time()\n",
    "  elapsed_time = 0.0\n",
    "\n",
    "  T = eltype(x)\n",
    "  n = nlp.meta.nvar\n",
    "\n",
    "  f = obj(nlp, x)\n",
    "  ∇f = grad(nlp, x)\n",
    "#################################################\n",
    "  H = NLPModels.hess_op(nlp,x)\n",
    "#################################################\n",
    "\n",
    "  ∇fNorm = norm(∇f) #nrm2(n, ∇f)\n",
    "  ϵ = atol + rtol * ∇fNorm\n",
    "  iter = 0\n",
    "\n",
    "  @info log_header([:iter, :f, :dual, :slope, :bk], [Int, T, T, T, T],\n",
    "                   hdr_override=Dict(:f=>\"f(x)\", :dual=>\"‖∇f‖\", :slope=>\"∇fᵀd\"))\n",
    "\n",
    "  optimal = ∇fNorm ≤ ϵ\n",
    "  unbdd = f ≤ f_min\n",
    "  tired = neval_obj(nlp) > max_eval ≥ 0 || elapsed_time > max_time\n",
    "  stalled = false\n",
    "  status = :unknown\n",
    "\n",
    "  while !(optimal || tired || stalled || unbdd)\n",
    "        \n",
    "    d = cg_optim(H, ∇f)\n",
    "        \n",
    "    slope = dot(d, ∇f)\n",
    "    if slope ≥ 0\n",
    "      @error \"not a descent direction\" slope\n",
    "      status = :not_desc\n",
    "      stalled = true\n",
    "      continue\n",
    "    end\n",
    "\n",
    "    # Perform improved Armijo linesearch.\n",
    "    t, f = armijo(x, d, f, ∇f, slope, nlp)\n",
    "        \n",
    "    @info log_row(Any[iter, f, ∇fNorm, slope, t])\n",
    "\n",
    "    # Update L-BFGS approximation.\n",
    "    x += t * d\n",
    "    ∇f = grad(nlp, x)\n",
    "#################################################\n",
    "    H = NLPModels.hess_op(nlp,x)\n",
    "#################################################\n",
    "\n",
    "    ∇fNorm = norm(∇f) #nrm2(n, ∇f)\n",
    "    iter = iter + 1\n",
    "\n",
    "    optimal = ∇fNorm ≤ ϵ\n",
    "    unbdd = f ≤ f_min\n",
    "    elapsed_time = time() - start_time\n",
    "    tired = neval_obj(nlp) > max_eval ≥ 0 || elapsed_time > max_time\n",
    "  end\n",
    "  @info log_row(Any[iter, f, ∇fNorm])\n",
    "\n",
    "  if optimal\n",
    "    status = :first_order\n",
    "  elseif tired\n",
    "    if neval_obj(nlp) > max_eval ≥ 0\n",
    "      status = :max_eval\n",
    "    elseif elapsed_time > max_time\n",
    "      status = :max_time\n",
    "    end\n",
    "  elseif unbdd\n",
    "        status = :unbounded\n",
    "  end\n",
    "\n",
    "  return GenericExecutionStats(nlp, status = status, solution=x, objective=f, dual_feas=∇fNorm,\n",
    "                               iter=iter, elapsed_time=elapsed_time)\n",
    "end"
   ]
  },
  {
   "cell_type": "markdown",
   "metadata": {},
   "source": [
    "Test"
   ]
  },
  {
   "cell_type": "code",
   "execution_count": 14,
   "metadata": {},
   "outputs": [
    {
     "name": "stdout",
     "output_type": "stream",
     "text": [
      "(stats.status, stats.solution) = (:first_order, [1.000000000013107, 6.553559582523889e-12])\n"
     ]
    },
    {
     "data": {
      "text/plain": [
       "(:first_order, [1.000000000013107, 6.553559582523889e-12])"
      ]
     },
     "metadata": {},
     "output_type": "display_data"
    }
   ],
   "source": [
    "#Unit/Validation Tests\n",
    "# Réaliser un test unitaire\n",
    "stats = with_logger(NullLogger()) do \n",
    "    armijo_Newton_cg(pb_du_cours, x = [1.5, .5]) \n",
    "end\n",
    "@test stats.status == :first_order\n",
    "@test stats.solution ≈ [1., 0.] atol = 1e-6\n",
    "@show (stats.status, stats.solution)"
   ]
  },
  {
   "cell_type": "markdown",
   "metadata": {},
   "source": [
    "Test sur un problème de OptimizationProblems"
   ]
  },
  {
   "cell_type": "code",
   "execution_count": 15,
   "metadata": {},
   "outputs": [],
   "source": [
    "using ADNLPModels, OptimizationProblems.ADNLPProblems, Test"
   ]
  },
  {
   "cell_type": "code",
   "execution_count": 24,
   "metadata": {},
   "outputs": [
    {
     "data": {
      "text/plain": [
       "\u001b[32m\u001b[1mTest Passed\u001b[22m\u001b[39m"
      ]
     },
     "metadata": {},
     "output_type": "display_data"
    }
   ],
   "source": [
    "n = 50\n",
    "model = genrose(n=n)\n",
    "@test typeof(model) <: ADNLPModel"
   ]
  },
  {
   "cell_type": "code",
   "execution_count": 25,
   "metadata": {},
   "outputs": [
    {
     "name": "stderr",
     "output_type": "stream",
     "text": [
      "┌ Info:   iter      f(x)      ‖∇f‖      ∇fᵀd        bk  \n",
      "└ @ Main c:\\Users\\Ulrizpascuit\\Desktop\\MTH8408\\MTH8408-Hiv24\\lab3\\Lab3-notebook.ipynb:24\n",
      "┌ Info:      0   2.0e+02   9.6e+01  -1.7e+03   2.6e-02\n",
      "└ @ Main c:\\Users\\Ulrizpascuit\\Desktop\\MTH8408\\MTH8408-Hiv24\\lab3\\Lab3-notebook.ipynb:48\n",
      "┌ Info:      1   2.0e+02   7.6e+01  -1.2e+01   1.0e+00\n",
      "└ @ Main c:\\Users\\Ulrizpascuit\\Desktop\\MTH8408\\MTH8408-Hiv24\\lab3\\Lab3-notebook.ipynb:48\n",
      "┌ Info:      2   2.0e+02   6.3e+01  -6.7e-01   1.0e+00\n",
      "└ @ Main c:\\Users\\Ulrizpascuit\\Desktop\\MTH8408\\MTH8408-Hiv24\\lab3\\Lab3-notebook.ipynb:48\n",
      "┌ Error: not a descent direction\n",
      "│   slope = 32.67689469970884\n",
      "└ @ Main c:\\Users\\Ulrizpascuit\\Desktop\\MTH8408\\MTH8408-Hiv24\\lab3\\Lab3-notebook.ipynb:39\n",
      "┌ Info:      3   2.0e+02   2.4e+01\n",
      "└ @ Main c:\\Users\\Ulrizpascuit\\Desktop\\MTH8408\\MTH8408-Hiv24\\lab3\\Lab3-notebook.ipynb:65\n"
     ]
    },
    {
     "data": {
      "text/plain": [
       "\"Execution stats: not a descent direction\""
      ]
     },
     "metadata": {},
     "output_type": "display_data"
    }
   ],
   "source": [
    "armijo_Newton_cg(model)"
   ]
  },
  {
   "cell_type": "markdown",
   "metadata": {},
   "source": [
    "Exercice 3"
   ]
  },
  {
   "cell_type": "code",
   "execution_count": 26,
   "metadata": {},
   "outputs": [
    {
     "name": "stderr",
     "output_type": "stream",
     "text": [
      "\u001b[91m\u001b[1mERROR: \u001b[22m\u001b[39m"
     ]
    },
    {
     "name": "stderr",
     "output_type": "stream",
     "text": [
      "LoadError: InitError: "
     ]
    },
    {
     "name": "stderr",
     "output_type": "stream",
     "text": [
      "UndefVarError: `GR_jll` not defined\n",
      "Stacktrace:\n",
      "  [1] \u001b[0m\u001b[1m__init__\u001b[22m\u001b[0m\u001b[1m(\u001b[22m\u001b[0m\u001b[1m)\u001b[22m\n",
      "\u001b[90m    @\u001b[39m \u001b[35mGR.GRPreferences\u001b[39m \u001b[90mC:\\Users\\Ulrizpascuit\\.julia\\packages\\GR\\mf3ag\\src\\\u001b[39m\u001b[90m\u001b[4mpreferences.jl:50\u001b[24m\u001b[39m\n",
      "  [2] \u001b[0m\u001b[1mregister_restored_modules\u001b[22m\u001b[0m\u001b[1m(\u001b[22m\u001b[90msv\u001b[39m::\u001b[0mCore.SimpleVector, \u001b[90mpkg\u001b[39m::\u001b[0mBase.PkgId, \u001b[90mpath\u001b[39m"
     ]
    },
    {
     "name": "stderr",
     "output_type": "stream",
     "text": [
      "::\u001b[0mString\u001b[0m\u001b[1m)\u001b[22m\n",
      "\u001b[90m    @\u001b[39m \u001b[90mBase\u001b[39m \u001b[90m.\\\u001b[39m\u001b[90m\u001b[4mloading.jl:1115\u001b[24m\u001b[39m\n",
      "  [3] \u001b[0m\u001b[1m_include_from_serialized\u001b[22m\u001b[0m\u001b[1m(\u001b[22m\u001b[90mpkg\u001b[39m::\u001b[0mBase.PkgId, \u001b[90mpath\u001b[39m::\u001b[0mString, \u001b[90mocachepath\u001b[39m::\u001b[0mString, \u001b[90mdepmods\u001b[39m::\u001b[0mVector\u001b[90m{Any}\u001b[39m\u001b[0m\u001b[1m)\u001b[22m\n",
      "\u001b[90m    @\u001b[39m \u001b[90mBase\u001b[39m \u001b[90m.\\\u001b[39m\u001b[90m\u001b[4mloading.jl:1061\u001b[24m\u001b[39m\n",
      "  [4] \u001b[0m\u001b[1m_require_search_from_serialized\u001b[22m\u001b[0m\u001b[1m(\u001b[22m\u001b[90mpkg\u001b[39m::\u001b[0mBase.PkgId, \u001b[90msourcepath\u001b[39m::\u001b[0mString, \u001b[90mbuild_id\u001b[39m::\u001b[0mUInt128\u001b[0m\u001b[1m)\u001b[22m\n",
      "\u001b[90m    @\u001b[39m \u001b[90mBase\u001b[39m \u001b[90m.\\\u001b[39m\u001b[90m\u001b[4mloading.jl:1506\u001b[24m\u001b[39m\n",
      "  [5] \u001b[0m\u001b[1m_require\u001b[22m\u001b[0m\u001b[1m(\u001b[22m\u001b[90mpkg\u001b[39m::\u001b[0mBase.PkgId, \u001b[90menv\u001b[39m::\u001b[0mString\u001b[0m\u001b[1m)\u001b[22m\n",
      "\u001b[90m    @\u001b[39m \u001b[90mBase\u001b[39m \u001b[90m.\\\u001b[39m\u001b[90m\u001b[4mloading.jl:1783\u001b[24m\u001b[39m\n",
      "  [6] \u001b[0m\u001b[1m_require_prelocked\u001b[22m\u001b[0m\u001b[1m(\u001b[22m\u001b[90muuidkey\u001b[39m::\u001b[0mBase.PkgId, \u001b[90menv\u001b[39m::\u001b[0mString\u001b[0m\u001b[1m)\u001b[22m\n",
      "\u001b[90m    @\u001b[39m \u001b[90mBase\u001b[39m \u001b[90m.\\\u001b[39m\u001b[90m\u001b[4mloading.jl:1660\u001b[24m\u001b[39m\n",
      "  [7] \u001b[0m\u001b[1mmacro expansion\u001b[22m\n",
      "\u001b[90m    @\u001b[39m \u001b[90m.\\\u001b[39m\u001b[90m\u001b[4mloading.jl:1648\u001b[24m\u001b[39m\u001b[90m [inlined]\u001b[39m\n",
      "  [8] \u001b[0m\u001b[1mmacro expansion\u001b[22m\n",
      "\u001b[90m    @\u001b[39m \u001b[90m.\\\u001b[39m\u001b[90m\u001b[4mlock.jl:267\u001b[24m\u001b[39m\u001b[90m [inlined]\u001b[39m\n",
      "  [9] \u001b[0m\u001b[1mrequire\u001b[22m\u001b[0m\u001b[1m(\u001b[22m\u001b[90minto\u001b[39m::\u001b[0mModule, \u001b[90mmod\u001b[39m::\u001b[0mSymbol\u001b[0m\u001b[1m)\u001b[22m\n",
      "\u001b[90m    @\u001b[39m \u001b[90mBase\u001b[39m \u001b[90m.\\\u001b[39m\u001b[90m\u001b[4mloading.jl:1611\u001b[24m\u001b[39m\n",
      " [10] top-level scope\n",
      "\u001b[90m    @\u001b[39m \u001b[90mC:\\Users\\Ulrizpascuit\\.julia\\packages\\Plots\\sxUvK\\src\\\u001b[39m\u001b[90m\u001b[4mbackends.jl:402\u001b[24m\u001b[39m\n",
      " [11] \u001b[0m\u001b[1meval\u001b[22m\n",
      "\u001b[90m    @\u001b[39m \u001b[90m.\\\u001b[39m\u001b[90m\u001b[4mboot.jl:370\u001b[24m\u001b[39m\u001b[90m [inlined]\u001b[39m\n",
      " [12] \u001b[0m\u001b[1m_initialize_backend\u001b[22m\u001b[0m\u001b[1m(\u001b[22m\u001b[90mpkg\u001b[39m::\u001b[0mPlots.GRBackend\u001b[0m\u001b[1m)\u001b[22m\n",
      "\u001b[90m    @\u001b[39m \u001b[36mPlots\u001b[39m \u001b[90mC:\\Users\\Ulrizpascuit\\.julia\\packages\\Plots\\sxUvK\\src\\\u001b[39m\u001b[90m\u001b[4mbackends.jl:401\u001b[24m\u001b[39m\n",
      " [13] \u001b[0m\u001b[1mbackend\u001b[22m\u001b[0m\u001b[1m(\u001b[22m\u001b[90mpkg\u001b[39m::\u001b[0mPlots.GRBackend\u001b[0m\u001b[1m)\u001b[22m\n",
      "\u001b[90m    @\u001b[39m \u001b[36mPlots\u001b[39m \u001b[90mC:\\Users\\Ulrizpascuit\\.julia\\packages\\Plots\\sxUvK\\src\\\u001b[39m\u001b[90m\u001b[4mbackends.jl:266\u001b[24m\u001b[39m\n",
      " [14] \u001b[0m\u001b[1mbackend\u001b[22m\u001b[0m\u001b[1m(\u001b[22m\u001b[90msym\u001b[39m::\u001b[0mSymbol\u001b[0m\u001b[1m)\u001b[22m\n",
      "\u001b[90m    @\u001b[39m \u001b[36mPlots\u001b[39m \u001b[90mC:\\Users\\Ulrizpascuit\\.julia\\packages\\Plots\\sxUvK\\src\\\u001b[39m\u001b[90m\u001b[4mbackends.jl:276\u001b[24m\u001b[39m\n",
      " [15] \u001b[0m\u001b[1mload_default_backend\u001b[22m\u001b[0m\u001b[1m(\u001b[22m\u001b[0m\u001b[1m)\u001b[22m\n",
      "\u001b[90m    @\u001b[39m \u001b[36mPlots\u001b[39m \u001b[90mC:\\Users\\Ulrizpascuit\\.julia\\packages\\Plots\\sxUvK\\src\\\u001b[39m\u001b[90m\u001b[4mbackends.jl:207\u001b[24m\u001b[39m\n",
      " [16] \u001b[0m\u001b[1mbackend\u001b[22m\u001b[0m\u001b[1m(\u001b[22m\u001b[0m\u001b[1m)\u001b[22m\n",
      "\u001b[90m    @\u001b[39m \u001b[36mPlots\u001b[39m \u001b[90mC:\\Users\\Ulrizpascuit\\.julia\\packages\\Plots\\sxUvK\\src\\\u001b[39m\u001b[90m\u001b[4mbackends.jl:254\u001b[24m\u001b[39m\n",
      " [17] top-level scope\n",
      "\u001b[90m    @\u001b[39m \u001b[90mC:\\Users\\Ulrizpascuit\\.julia\\packages\\Plots\\sxUvK\\src\\\u001b[39m\u001b[90m\u001b[4minit.jl:83\u001b[24m\u001b[39m\n",
      " [18] \u001b[0m\u001b[1minclude\u001b[22m\u001b[0m\u001b[1m(\u001b[22m\u001b[90mmod\u001b[39m::\u001b[0mModule, \u001b[90m_path\u001b[39m::\u001b[0mString\u001b[0m\u001b[1m)\u001b[22m\n",
      "\u001b[90m    @\u001b[39m \u001b[90mBase\u001b[39m \u001b[90m.\\\u001b[39m\u001b[90m\u001b[4mBase.jl:457\u001b[24m\u001b[39m\n",
      " [19] \u001b[0m\u001b[1minclude\u001b[22m\u001b[0m\u001b[1m(\u001b[22m\u001b[90mx\u001b[39m::\u001b[0mString\u001b[0m\u001b[1m)\u001b[22m\n",
      "\u001b[90m    @\u001b[39m \u001b[36mPlots\u001b[39m \u001b[90mC:\\Users\\Ulrizpascuit\\.julia\\packages\\Plots\\sxUvK\\src\\\u001b[39m\u001b[90m\u001b[4mPlots.jl:1\u001b[24m\u001b[39m\n",
      " [20] top-level scope\n",
      "\u001b[90m    @\u001b[39m \u001b[90mC:\\Users\\Ulrizpascuit\\.julia\\packages\\Plots\\sxUvK\\src\\\u001b[39m\u001b[90m\u001b[4mPlots.jl:176\u001b[24m\u001b[39m\n",
      " [21] \u001b[0m\u001b[1minclude\u001b[22m\n",
      "\u001b[90m    @\u001b[39m \u001b[90m.\\\u001b[39m\u001b[90m\u001b[4mBase.jl:457\u001b[24m\u001b[39m\u001b[90m [inlined]\u001b[39m\n",
      " [22] \u001b[0m\u001b[1minclude_package_for_output\u001b[22m\u001b[0m\u001b[1m(\u001b[22m\u001b[90mpkg\u001b[39m::\u001b[0mBase.PkgId, \u001b[90minput\u001b[39m::\u001b[0mString, \u001b[90mdepot_path\u001b[39m::\u001b[0mVector\u001b[90m{String}\u001b[39m, \u001b[90mdl_load_path\u001b[39m::\u001b[0mVector\u001b[90m{String}\u001b[39m, \u001b[90mload_path\u001b[39m::\u001b[0mVector\u001b[90m{String}\u001b[39m, \u001b[90mconcrete_deps\u001b[39m::\u001b[0mVector\u001b[90m{Pair{Base.PkgId, UInt128}}\u001b[39m, \u001b[90msource\u001b[39m::\u001b[0mString\u001b[0m\u001b[1m)\u001b[22m\n",
      "\u001b[90m    @\u001b[39m \u001b[90mBase\u001b[39m \u001b[90m.\\\u001b[39m\u001b[90m\u001b[4mloading.jl:2049\u001b[24m\u001b[39m\n",
      " [23] top-level scope\n",
      "\u001b[90m    @\u001b[39m \u001b[90m\u001b[4mstdin:3\u001b[24m\u001b[39m\n",
      "during initialization of module GRPreferences\n",
      "in expression starting at C:\\Users\\Ulrizpascuit\\.julia\\packages\\Plots\\sxUvK\\src\\init.jl:83\n",
      "in expression starting at C:\\Users\\Ulrizpascuit\\.julia\\packages\\Plots\\sxUvK\\src\\Plots.jl:1\n",
      "in expression starting at stdin:3\n"
     ]
    },
    {
     "name": "stderr",
     "output_type": "stream",
     "text": [
      "\u001b[91m\u001b[1mERROR: \u001b[22m\u001b[39mLoadError: "
     ]
    },
    {
     "name": "stderr",
     "output_type": "stream",
     "text": [
      "Failed to precompile Plots [91a5bcdd-55d7-5caf-9e0b-520d859cae80] to \"C:\\\\Users\\\\Ulrizpascuit\\\\.julia\\\\compiled\\\\v1.9\\\\Plots\\\\jl_232B.tmp\".\n",
      "Stacktrace:\n",
      "  [1] \u001b[0m\u001b[1merror\u001b[22m\u001b[0m\u001b[1m(\u001b[22m\u001b[90ms\u001b[39m::\u001b[0mString\u001b[0m\u001b[1m)\u001b[22m\n",
      "\u001b[90m    @\u001b[39m \u001b[90mBase\u001b[39m \u001b[90m.\\\u001b[39m\u001b[90m\u001b[4merror.jl:35\u001b[24m\u001b[39m\n",
      "  [2] \u001b[0m\u001b[1mcompilecache\u001b[22m\u001b[0m\u001b[1m(\u001b[22m\u001b[90mpkg\u001b[39m::\u001b[0mBase.PkgId, \u001b[90mpath\u001b[39m::\u001b[0mString, \u001b[90minternal_stderr\u001b[39m::\u001b[0mIO, \u001b[90minternal_stdout\u001b[39m::\u001b[0mIO, \u001b[90mkeep_loaded_modules\u001b[39m::\u001b[0mBool\u001b[0m\u001b[1m)\u001b[22m\n",
      "\u001b[90m    @\u001b[39m \u001b[90mBase\u001b[39m \u001b[90m.\\\u001b[39m\u001b[90m\u001b[4mloading.jl:2300\u001b[24m\u001b[39m\n",
      "  [3] \u001b[0m\u001b[1mcompilecache\u001b[22m\n",
      "\u001b[90m    @\u001b[39m \u001b[90m.\\\u001b[39m\u001b[90m\u001b[4mloading.jl:2167\u001b[24m\u001b[39m\u001b[90m [inlined]\u001b[39m\n",
      "  [4] \u001b[0m\u001b[1m_require\u001b[22m\u001b[0m\u001b[1m(\u001b[22m\u001b[90mpkg\u001b[39m::\u001b[0mBase.PkgId, \u001b[90menv\u001b[39m::\u001b[0mString\u001b[0m\u001b[1m)\u001b[22m\n",
      "\u001b[90m    @\u001b[39m \u001b[90mBase\u001b[39m \u001b[90m.\\\u001b[39m\u001b[90m\u001b[4mloading.jl:1805\u001b[24m\u001b[39m\n",
      "  [5] \u001b[0m\u001b[1m_require_prelocked\u001b[22m\u001b[0m\u001b[1m(\u001b[22m\u001b[90muuidkey\u001b[39m::\u001b[0mBase.PkgId, \u001b[90menv\u001b[39m::\u001b[0mString\u001b[0m\u001b[1m)\u001b[22m\n",
      "\u001b[90m    @\u001b[39m \u001b[90mBase\u001b[39m \u001b[90m.\\\u001b[39m\u001b[90m\u001b[4mloading.jl:1660\u001b[24m\u001b[39m\n",
      "  [6] \u001b[0m\u001b[1mmacro expansion\u001b[22m\n",
      "\u001b[90m    @\u001b[39m \u001b[90m.\\\u001b[39m\u001b[90m\u001b[4mloading.jl:1648\u001b[24m\u001b[39m\u001b[90m [inlined]\u001b[39m\n",
      "  [7] \u001b[0m\u001b[1mmacro expansion\u001b[22m\n",
      "\u001b[90m    @\u001b[39m \u001b[90m.\\\u001b[39m\u001b[90m\u001b[4mlock.jl:267\u001b[24m\u001b[39m\u001b[90m [inlined]\u001b[39m\n",
      "  [8] \u001b[0m\u001b[1mrequire\u001b[22m\u001b[0m\u001b[1m(\u001b[22m\u001b[90minto\u001b[39m::\u001b[0mModule, \u001b[90mmod\u001b[39m::\u001b[0mSymbol\u001b[0m\u001b[1m)\u001b[22m\n",
      "\u001b[90m    @\u001b[39m \u001b[90mBase\u001b[39m \u001b[90m.\\\u001b[39m\u001b[90m\u001b[4mloading.jl:1611\u001b[24m\u001b[39m\n",
      "  [9] \u001b[0m\u001b[1minclude\u001b[22m\u001b[0m\u001b[1m(\u001b[22m\u001b[90mmod\u001b[39m::\u001b[0mModule, \u001b[90m_path\u001b[39m::\u001b[0mString\u001b[0m\u001b[1m)\u001b[22m\n",
      "\u001b[90m    @\u001b[39m \u001b[90mBase\u001b[39m \u001b[90m.\\\u001b[39m\u001b[90m\u001b[4mBase.jl:457\u001b[24m\u001b[39m\n",
      " [10] \u001b[0m\u001b[1minclude\u001b[22m\u001b[0m\u001b[1m(\u001b[22m\u001b[90mx\u001b[39m::\u001b[0mString\u001b[0m\u001b[1m)\u001b[22m\n",
      "\u001b[90m    @\u001b[39m \u001b[35mSolverBenchmark\u001b[39m \u001b[90mC:\\Users\\Ulrizpascuit\\.julia\\packages\\SolverBenchmark\\YM13z\\src\\\u001b[39m\u001b[90m\u001b[4mSolverBenchmark.jl:1\u001b[24m\u001b[39m\n",
      " [11] top-level scope\n",
      "\u001b[90m    @\u001b[39m \u001b[90mC:\\Users\\Ulrizpascuit\\.julia\\packages\\SolverBenchmark\\YM13z\\src\\\u001b[39m\u001b[90m\u001b[4mSolverBenchmark.jl:44\u001b[24m\u001b[39m\n",
      " [12] \u001b[0m\u001b[1minclude\u001b[22m\n",
      "\u001b[90m    @\u001b[39m \u001b[90m.\\\u001b[39m\u001b[90m\u001b[4mBase.jl:457\u001b[24m\u001b[39m\u001b[90m [inlined]\u001b[39m\n",
      " [13] \u001b[0m\u001b[1minclude_package_for_output\u001b[22m\u001b[0m\u001b[1m(\u001b[22m\u001b[90mpkg\u001b[39m::\u001b[0mBase.PkgId, \u001b[90minput\u001b[39m::\u001b[0mString, \u001b[90mdepot_path\u001b[39m::\u001b[0mVector\u001b[90m{String}\u001b[39m, \u001b[90mdl_load_path\u001b[39m::\u001b[0mVector\u001b[90m{String}\u001b[39m, \u001b[90mload_path\u001b[39m::\u001b[0mVector\u001b[90m{String}\u001b[39m, \u001b[90mconcrete_deps\u001b[39m::\u001b[0mVector\u001b[90m{Pair{Base.PkgId, UInt128}}\u001b[39m, \u001b[90msource\u001b[39m::\u001b[0mString\u001b[0m\u001b[1m)\u001b[22m\n",
      "\u001b[90m    @\u001b[39m \u001b[90mBase\u001b[39m \u001b[90m.\\\u001b[39m\u001b[90m\u001b[4mloading.jl:2049\u001b[24m\u001b[39m\n",
      " [14] top-level scope\n",
      "\u001b[90m    @\u001b[39m \u001b[90m\u001b[4mstdin:3\u001b[24m\u001b[39m\n",
      "in expression starting at C:\\Users\\Ulrizpascuit\\.julia\\packages\\SolverBenchmark\\YM13z\\src\\profiles.jl:2\n",
      "in expression starting at C:\\Users\\Ulrizpascuit\\.julia\\packages\\SolverBenchmark\\YM13z\\src\\SolverBenchmark.jl:1\n",
      "in expression starting at stdin:3\n"
     ]
    },
    {
     "ename": "ErrorException",
     "evalue": "Failed to precompile SolverBenchmark [581a75fa-a23a-52d0-a590-d6201de2218a] to \"C:\\\\Users\\\\Ulrizpascuit\\\\.julia\\\\compiled\\\\v1.9\\\\SolverBenchmark\\\\jl_FE20.tmp\".",
     "output_type": "error",
     "traceback": [
      "Failed to precompile SolverBenchmark [581a75fa-a23a-52d0-a590-d6201de2218a] to \"C:\\\\Users\\\\Ulrizpascuit\\\\.julia\\\\compiled\\\\v1.9\\\\SolverBenchmark\\\\jl_FE20.tmp\".\n",
      "\n",
      "Stacktrace:\n",
      "  [1] error(s::String)\n",
      "    @ Base .\\error.jl:35\n",
      "  [2] compilecache(pkg::Base.PkgId, path::String, internal_stderr::IO, internal_stdout::IO, keep_loaded_modules::Bool)\n",
      "    @ Base .\\loading.jl:2300\n",
      "  [3] compilecache\n",
      "    @ .\\loading.jl:2167 [inlined]\n",
      "  [4] _require(pkg::Base.PkgId, env::String)\n",
      "    @ Base .\\loading.jl:1805\n",
      "  [5] _require_prelocked(uuidkey::Base.PkgId, env::String)\n",
      "    @ Base .\\loading.jl:1660\n",
      "  [6] macro expansion\n",
      "    @ .\\loading.jl:1648 [inlined]\n",
      "  [7] macro expansion\n",
      "    @ .\\lock.jl:267 [inlined]\n",
      "  [8] require(into::Module, mod::Symbol)\n",
      "    @ Base .\\loading.jl:1611\n",
      "  [9] eval\n",
      "    @ .\\boot.jl:370 [inlined]\n",
      " [10] include_string(mapexpr::typeof(REPL.softscope), mod::Module, code::String, filename::String)\n",
      "    @ Base .\\loading.jl:1903\n",
      " [11] #invokelatest#2\n",
      "    @ .\\essentials.jl:819 [inlined]\n",
      " [12] invokelatest\n",
      "    @ .\\essentials.jl:816 [inlined]\n",
      " [13] (::VSCodeServer.var\"#208#209\"{VSCodeServer.NotebookRunCellArguments, String})()\n",
      "    @ VSCodeServer c:\\Users\\Ulrizpascuit\\.vscode\\extensions\\julialang.language-julia-1.66.2\\scripts\\packages\\VSCodeServer\\src\\serve_notebook.jl:19\n",
      " [14] withpath(f::VSCodeServer.var\"#208#209\"{VSCodeServer.NotebookRunCellArguments, String}, path::String)\n",
      "    @ VSCodeServer c:\\Users\\Ulrizpascuit\\.vscode\\extensions\\julialang.language-julia-1.66.2\\scripts\\packages\\VSCodeServer\\src\\repl.jl:274\n",
      " [15] notebook_runcell_request(conn::VSCodeServer.JSONRPC.JSONRPCEndpoint{Base.PipeEndpoint, Base.PipeEndpoint}, params::VSCodeServer.NotebookRunCellArguments)\n",
      "    @ VSCodeServer c:\\Users\\Ulrizpascuit\\.vscode\\extensions\\julialang.language-julia-1.66.2\\scripts\\packages\\VSCodeServer\\src\\serve_notebook.jl:13\n",
      " [16] dispatch_msg(x::VSCodeServer.JSONRPC.JSONRPCEndpoint{Base.PipeEndpoint, Base.PipeEndpoint}, dispatcher::VSCodeServer.JSONRPC.MsgDispatcher, msg::Dict{String, Any})\n",
      "    @ VSCodeServer.JSONRPC c:\\Users\\Ulrizpascuit\\.vscode\\extensions\\julialang.language-julia-1.66.2\\scripts\\packages\\JSONRPC\\src\\typed.jl:67\n",
      " [17] serve_notebook(pipename::String, outputchannel_logger::Base.CoreLogging.SimpleLogger; crashreporting_pipename::String)\n",
      "    @ VSCodeServer c:\\Users\\Ulrizpascuit\\.vscode\\extensions\\julialang.language-julia-1.66.2\\scripts\\packages\\VSCodeServer\\src\\serve_notebook.jl:139\n",
      " [18] top-level scope\n",
      "    @ c:\\Users\\Ulrizpascuit\\.vscode\\extensions\\julialang.language-julia-1.66.2\\scripts\\notebook\\notebook.jl:32"
     ]
    }
   ],
   "source": [
    "using ADNLPModels\n",
    "using OptimizationProblems, OptimizationProblems.ADNLPProblems\n",
    "using LinearAlgebra\n",
    "using SolverCore, SolverBenchmark, NLPModels\n",
    "using JSOSolvers"
   ]
  },
  {
   "cell_type": "code",
   "execution_count": 21,
   "metadata": {},
   "outputs": [
    {
     "name": "stderr",
     "output_type": "stream",
     "text": [
      "WARNING: using ADNLPProblems.rosenbrock in module Main conflicts with an existing identifier.\n",
      "┌ Info:            Name    nvar    ncon           status      Time      f(x)      Dual    Primal  \n",
      "└ @ SolverBenchmark C:\\Users\\Ulrizpascuit\\.julia\\packages\\SolverBenchmark\\YM13z\\src\\run_solver.jl:127\n"
     ]
    },
    {
     "name": "stderr",
     "output_type": "stream",
     "text": [
      "┌ Info:            NZF1      26       0         max_time   3.0e+01   2.0e+03   2.9e-04   0.0e+00\n",
      "└ @ SolverBenchmark C:\\Users\\Ulrizpascuit\\.julia\\packages\\SolverBenchmark\\YM13z\\src\\run_solver.jl:175\n"
     ]
    },
    {
     "name": "stderr",
     "output_type": "stream",
     "text": [
      "┌ Info:         arglina       6       0      first_order   7.6e-01   3.0e+00   4.7e-16   0.0e+00\n",
      "└ @ SolverBenchmark C:\\Users\\Ulrizpascuit\\.julia\\packages\\SolverBenchmark\\YM13z\\src\\run_solver.jl:175\n"
     ]
    },
    {
     "name": "stderr",
     "output_type": "stream",
     "text": [
      "┌ Info:         arglinb       6       0      first_order   6.6e-01   1.3e+00   6.7e-13   0.0e+00\n",
      "└ @ SolverBenchmark C:\\Users\\Ulrizpascuit\\.julia\\packages\\SolverBenchmark\\YM13z\\src\\run_solver.jl:175\n"
     ]
    },
    {
     "name": "stderr",
     "output_type": "stream",
     "text": [
      "┌ Info:         arglinc       6       0      first_order   6.5e-01   4.1e+00   2.1e-12   0.0e+00\n",
      "└ @ SolverBenchmark C:\\Users\\Ulrizpascuit\\.julia\\packages\\SolverBenchmark\\YM13z\\src\\run_solver.jl:175\n"
     ]
    },
    {
     "name": "stderr",
     "output_type": "stream",
     "text": [
      "┌ Info:         argtrig       6       0      first_order   5.9e-01  -3.2e+01   6.8e-06   0.0e+00\n",
      "└ @ SolverBenchmark C:\\Users\\Ulrizpascuit\\.julia\\packages\\SolverBenchmark\\YM13z\\src\\run_solver.jl:175\n"
     ]
    },
    {
     "name": "stderr",
     "output_type": "stream",
     "text": [
      "┌ Info:         arwhead       6       0      first_order   6.1e-01   1.6e-12   6.6e-06   0.0e+00\n",
      "└ @ SolverBenchmark C:\\Users\\Ulrizpascuit\\.julia\\packages\\SolverBenchmark\\YM13z\\src\\run_solver.jl:175\n"
     ]
    },
    {
     "name": "stderr",
     "output_type": "stream",
     "text": [
      "┌ Info:         bdqrtic       6       0      first_order   5.7e-01   9.7e-01   4.8e-06   0.0e+00\n",
      "└ @ SolverBenchmark C:\\Users\\Ulrizpascuit\\.julia\\packages\\SolverBenchmark\\YM13z\\src\\run_solver.jl:175\n"
     ]
    },
    {
     "name": "stderr",
     "output_type": "stream",
     "text": [
      "┌ Info:          biggs6       6       0         max_time   3.0e+01       NaN       NaN   0.0e+00\n",
      "└ @ SolverBenchmark C:\\Users\\Ulrizpascuit\\.julia\\packages\\SolverBenchmark\\YM13z\\src\\run_solver.jl:175\n"
     ]
    },
    {
     "name": "stderr",
     "output_type": "stream",
     "text": [
      "┌ Info:         brownal       6       0      first_order   7.1e-01   3.0e-12   6.5e-06   0.0e+00\n",
      "└ @ SolverBenchmark C:\\Users\\Ulrizpascuit\\.julia\\packages\\SolverBenchmark\\YM13z\\src\\run_solver.jl:175\n"
     ]
    },
    {
     "name": "stderr",
     "output_type": "stream",
     "text": [
      "┌ Info:       broyden3d       6       0      first_order   5.7e-01   1.3e-12   5.9e-06   0.0e+00\n",
      "└ @ SolverBenchmark C:\\Users\\Ulrizpascuit\\.julia\\packages\\SolverBenchmark\\YM13z\\src\\run_solver.jl:175\n"
     ]
    },
    {
     "name": "stderr",
     "output_type": "stream",
     "text": [
      "┌ Info:        broydn7d       6       0      first_order   8.6e-01   4.5e+00   9.5e-06   0.0e+00\n",
      "└ @ SolverBenchmark C:\\Users\\Ulrizpascuit\\.julia\\packages\\SolverBenchmark\\YM13z\\src\\run_solver.jl:175\n"
     ]
    },
    {
     "name": "stderr",
     "output_type": "stream",
     "text": [
      "┌ Info:          brybnd       6       0      first_order   9.6e-01   1.4e+00   8.4e-06   0.0e+00\n",
      "└ @ SolverBenchmark C:\\Users\\Ulrizpascuit\\.julia\\packages\\SolverBenchmark\\YM13z\\src\\run_solver.jl:175\n"
     ]
    },
    {
     "name": "stderr",
     "output_type": "stream",
     "text": [
      "┌ Warning: catenary: number of variables adjusted to be greater or equal to 6\n",
      "└ @ OptimizationProblems.ADNLPProblems C:\\Users\\Ulrizpascuit\\.julia\\packages\\OptimizationProblems\\fiJkh\\src\\ADNLPProblems\\catenary.jl:6\n"
     ]
    },
    {
     "name": "stderr",
     "output_type": "stream",
     "text": [
      "┌ Warning: chainwoo: number of variables adjusted to be a multiple of 4\n",
      "└ @ OptimizationProblems.ADNLPProblems C:\\Users\\Ulrizpascuit\\.julia\\packages\\OptimizationProblems\\fiJkh\\src\\ADNLPProblems\\chainwoo.jl:4\n"
     ]
    },
    {
     "name": "stderr",
     "output_type": "stream",
     "text": [
      "┌ Info:        chnrosnb       6       0      first_order   6.7e-01   2.2e-14   5.0e-06   0.0e+00\n",
      "└ @ SolverBenchmark C:\\Users\\Ulrizpascuit\\.julia\\packages\\SolverBenchmark\\YM13z\\src\\run_solver.jl:175\n",
      "┌ Warning: clplatea: number of variables adjusted from 6 down to 4\n",
      "└ @ OptimizationProblems.ADNLPProblems C:\\Users\\Ulrizpascuit\\.julia\\packages\\OptimizationProblems\\fiJkh\\src\\ADNLPProblems\\clplatea.jl:10\n"
     ]
    },
    {
     "name": "stderr",
     "output_type": "stream",
     "text": [
      "┌ Warning: clplateb: number of variables adjusted from 6 down to 4\n",
      "└ @ OptimizationProblems.ADNLPProblems C:\\Users\\Ulrizpascuit\\.julia\\packages\\OptimizationProblems\\fiJkh\\src\\ADNLPProblems\\clplateb.jl:10\n"
     ]
    },
    {
     "name": "stderr",
     "output_type": "stream",
     "text": [
      "┌ Warning: clplatec: number of variables adjusted from 6 down to 4\n",
      "└ @ OptimizationProblems.ADNLPProblems C:\\Users\\Ulrizpascuit\\.julia\\packages\\OptimizationProblems\\fiJkh\\src\\ADNLPProblems\\clplatec.jl:12\n"
     ]
    },
    {
     "name": "stderr",
     "output_type": "stream",
     "text": [
      "┌ Info:          cosine       6       0      first_order   6.0e-01  -5.0e+00   2.3e-07   0.0e+00\n",
      "└ @ SolverBenchmark C:\\Users\\Ulrizpascuit\\.julia\\packages\\SolverBenchmark\\YM13z\\src\\run_solver.jl:175\n"
     ]
    },
    {
     "name": "stderr",
     "output_type": "stream",
     "text": [
      "┌ Info:        cragglvy       6       0      first_order   5.9e-01   6.1e-01   4.5e-06   0.0e+00\n",
      "└ @ SolverBenchmark C:\\Users\\Ulrizpascuit\\.julia\\packages\\SolverBenchmark\\YM13z\\src\\run_solver.jl:175\n"
     ]
    },
    {
     "name": "stderr",
     "output_type": "stream",
     "text": [
      "┌ Info:       cragglvy2       6       0      first_order   6.6e-01   2.2e-01   6.8e-06   0.0e+00\n",
      "└ @ SolverBenchmark C:\\Users\\Ulrizpascuit\\.julia\\packages\\SolverBenchmark\\YM13z\\src\\run_solver.jl:175\n",
      "┌ Info:           curly       6       0      first_order   1.2e+00  -6.0e+02   9.4e-06   0.0e+00\n",
      "└ @ SolverBenchmark C:\\Users\\Ulrizpascuit\\.julia\\packages\\SolverBenchmark\\YM13z\\src\\run_solver.jl:175\n",
      "┌ Info:         curly10       6       0      first_order   1.2e+00  -6.0e+02   9.4e-06   0.0e+00\n",
      "└ @ SolverBenchmark C:\\Users\\Ulrizpascuit\\.julia\\packages\\SolverBenchmark\\YM13z\\src\\run_solver.jl:175\n"
     ]
    },
    {
     "name": "stderr",
     "output_type": "stream",
     "text": [
      "┌ Info:         curly20       6       0      first_order   1.2e+00  -6.0e+02   9.4e-06   0.0e+00\n",
      "└ @ SolverBenchmark C:\\Users\\Ulrizpascuit\\.julia\\packages\\SolverBenchmark\\YM13z\\src\\run_solver.jl:175\n"
     ]
    },
    {
     "name": "stderr",
     "output_type": "stream",
     "text": [
      "┌ Info:         curly30       6       0      first_order   1.2e+00  -6.0e+02   9.4e-06   0.0e+00\n",
      "└ @ SolverBenchmark C:\\Users\\Ulrizpascuit\\.julia\\packages\\SolverBenchmark\\YM13z\\src\\run_solver.jl:175\n"
     ]
    },
    {
     "name": "stderr",
     "output_type": "stream",
     "text": [
      "┌ Info:        dixmaane       6       0      first_order   9.2e-01   1.0e+00   6.0e-06   0.0e+00\n",
      "└ @ SolverBenchmark C:\\Users\\Ulrizpascuit\\.julia\\packages\\SolverBenchmark\\YM13z\\src\\run_solver.jl:175\n"
     ]
    },
    {
     "name": "stderr",
     "output_type": "stream",
     "text": [
      "┌ Info:        dixmaanf       6       0      first_order   8.1e-01   1.0e+00   7.5e-06   0.0e+00\n",
      "└ @ SolverBenchmark C:\\Users\\Ulrizpascuit\\.julia\\packages\\SolverBenchmark\\YM13z\\src\\run_solver.jl:175\n",
      "┌ Info:        dixmaang       6       0      first_order   0.0e+00   1.0e+00   4.7e-06   0.0e+00\n",
      "└ @ SolverBenchmark C:\\Users\\Ulrizpascuit\\.julia\\packages\\SolverBenchmark\\YM13z\\src\\run_solver.jl:175\n"
     ]
    },
    {
     "name": "stderr",
     "output_type": "stream",
     "text": [
      "┌ Info:        dixmaanh       6       0      first_order   0.0e+00   1.0e+00   3.6e-06   0.0e+00\n",
      "└ @ SolverBenchmark C:\\Users\\Ulrizpascuit\\.julia\\packages\\SolverBenchmark\\YM13z\\src\\run_solver.jl:175\n",
      "┌ Info:        dixmaani       6       0      first_order   9.3e-01   1.0e+00   4.5e-06   0.0e+00\n",
      "└ @ SolverBenchmark C:\\Users\\Ulrizpascuit\\.julia\\packages\\SolverBenchmark\\YM13z\\src\\run_solver.jl:175\n"
     ]
    },
    {
     "name": "stderr",
     "output_type": "stream",
     "text": [
      "┌ Info:        dixmaanj       6       0      first_order   8.2e-01   1.0e+00   4.8e-06   0.0e+00\n",
      "└ @ SolverBenchmark C:\\Users\\Ulrizpascuit\\.julia\\packages\\SolverBenchmark\\YM13z\\src\\run_solver.jl:175\n",
      "┌ Info:        dixmaank       6       0      first_order   0.0e+00   1.0e+00   2.4e-06   0.0e+00\n",
      "└ @ SolverBenchmark C:\\Users\\Ulrizpascuit\\.julia\\packages\\SolverBenchmark\\YM13z\\src\\run_solver.jl:175\n",
      "┌ Info:        dixmaanl       6       0      first_order   0.0e+00   1.0e+00   8.2e-06   0.0e+00\n",
      "└ @ SolverBenchmark C:\\Users\\Ulrizpascuit\\.julia\\packages\\SolverBenchmark\\YM13z\\src\\run_solver.jl:175\n"
     ]
    },
    {
     "name": "stderr",
     "output_type": "stream",
     "text": [
      "┌ Info:        dixmaanm       6       0      first_order   9.4e-01   1.0e+00   4.8e-06   0.0e+00\n",
      "└ @ SolverBenchmark C:\\Users\\Ulrizpascuit\\.julia\\packages\\SolverBenchmark\\YM13z\\src\\run_solver.jl:175\n"
     ]
    },
    {
     "name": "stderr",
     "output_type": "stream",
     "text": [
      "┌ Info:        dixmaann       6       0      first_order   8.3e-01   1.0e+00   6.0e-06   0.0e+00\n",
      "└ @ SolverBenchmark C:\\Users\\Ulrizpascuit\\.julia\\packages\\SolverBenchmark\\YM13z\\src\\run_solver.jl:175\n",
      "┌ Info:        dixmaano       6       0      first_order   0.0e+00   1.0e+00   2.3e-06   0.0e+00\n",
      "└ @ SolverBenchmark C:\\Users\\Ulrizpascuit\\.julia\\packages\\SolverBenchmark\\YM13z\\src\\run_solver.jl:175\n"
     ]
    },
    {
     "name": "stderr",
     "output_type": "stream",
     "text": [
      "┌ Info:        dixmaanp       6       0      first_order   0.0e+00   1.0e+00   8.9e-06   0.0e+00\n",
      "└ @ SolverBenchmark C:\\Users\\Ulrizpascuit\\.julia\\packages\\SolverBenchmark\\YM13z\\src\\run_solver.jl:175\n",
      "┌ Info:        dixon3dq       6       0      first_order   5.8e-01   2.7e-10   8.6e-06   0.0e+00\n",
      "└ @ SolverBenchmark C:\\Users\\Ulrizpascuit\\.julia\\packages\\SolverBenchmark\\YM13z\\src\\run_solver.jl:175\n"
     ]
    },
    {
     "name": "stderr",
     "output_type": "stream",
     "text": [
      "┌ Info:         dqdrtic       6       0      first_order   6.4e-01   5.7e-14   4.7e-06   0.0e+00\n",
      "└ @ SolverBenchmark C:\\Users\\Ulrizpascuit\\.julia\\packages\\SolverBenchmark\\YM13z\\src\\run_solver.jl:175\n",
      "┌ Info:          dqrtic       6       0      first_order   6.6e-01   4.2e-08   8.1e-06   0.0e+00\n",
      "└ @ SolverBenchmark C:\\Users\\Ulrizpascuit\\.julia\\packages\\SolverBenchmark\\YM13z\\src\\run_solver.jl:175\n"
     ]
    },
    {
     "name": "stderr",
     "output_type": "stream",
     "text": [
      "┌ Info:         edensch       6       0      first_order   6.6e-01   3.9e+01   7.4e-06   0.0e+00\n",
      "└ @ SolverBenchmark C:\\Users\\Ulrizpascuit\\.julia\\packages\\SolverBenchmark\\YM13z\\src\\run_solver.jl:175\n",
      "┌ Info:             eg2       6       0      first_order   5.9e-01  -4.9e+00   8.8e-06   0.0e+00\n",
      "└ @ SolverBenchmark C:\\Users\\Ulrizpascuit\\.julia\\packages\\SolverBenchmark\\YM13z\\src\\run_solver.jl:175\n"
     ]
    },
    {
     "name": "stderr",
     "output_type": "stream",
     "text": [
      "┌ Info:         engval1       6       0      first_order   5.9e-01   4.7e+00   5.5e-06   0.0e+00\n",
      "└ @ SolverBenchmark C:\\Users\\Ulrizpascuit\\.julia\\packages\\SolverBenchmark\\YM13z\\src\\run_solver.jl:175\n"
     ]
    },
    {
     "name": "stderr",
     "output_type": "stream",
     "text": [
      "┌ Info:            enso       9       0      first_order   7.4e-01   3.9e+02   5.3e-06   0.0e+00\n",
      "└ @ SolverBenchmark C:\\Users\\Ulrizpascuit\\.julia\\packages\\SolverBenchmark\\YM13z\\src\\run_solver.jl:175\n"
     ]
    },
    {
     "name": "stderr",
     "output_type": "stream",
     "text": [
      "┌ Info:        errinros       6       0      first_order   7.2e-01   1.3e+00   8.5e-06   0.0e+00\n",
      "└ @ SolverBenchmark C:\\Users\\Ulrizpascuit\\.julia\\packages\\SolverBenchmark\\YM13z\\src\\run_solver.jl:175\n"
     ]
    },
    {
     "name": "stderr",
     "output_type": "stream",
     "text": [
      "┌ Info:        extrosnb       6       0      first_order   5.7e-01   1.6e-13   5.8e-06   0.0e+00\n",
      "└ @ SolverBenchmark C:\\Users\\Ulrizpascuit\\.julia\\packages\\SolverBenchmark\\YM13z\\src\\run_solver.jl:175\n"
     ]
    },
    {
     "name": "stderr",
     "output_type": "stream",
     "text": [
      "┌ Info:        fletcbv2       6       0      first_order   6.8e-01  -6.7e-01   3.2e-06   0.0e+00\n",
      "└ @ SolverBenchmark C:\\Users\\Ulrizpascuit\\.julia\\packages\\SolverBenchmark\\YM13z\\src\\run_solver.jl:175\n"
     ]
    },
    {
     "name": "stderr",
     "output_type": "stream",
     "text": [
      "┌ Info:        fletcbv3       6       0      first_order   0.0e+00  -5.5e-06   1.9e-06   0.0e+00\n",
      "└ @ SolverBenchmark C:\\Users\\Ulrizpascuit\\.julia\\packages\\SolverBenchmark\\YM13z\\src\\run_solver.jl:175\n"
     ]
    },
    {
     "name": "stderr",
     "output_type": "stream",
     "text": [
      "┌ Info:        fletchcr       6       0      first_order   6.3e-01   1.6e-14   8.3e-06   0.0e+00\n",
      "└ @ SolverBenchmark C:\\Users\\Ulrizpascuit\\.julia\\packages\\SolverBenchmark\\YM13z\\src\\run_solver.jl:175\n"
     ]
    },
    {
     "name": "stderr",
     "output_type": "stream",
     "text": [
      "┌ Warning: fminsrf2: number of variables adjusted from 6 down to 4\n",
      "└ @ OptimizationProblems.ADNLPProblems C:\\Users\\Ulrizpascuit\\.julia\\packages\\OptimizationProblems\\fiJkh\\src\\ADNLPProblems\\fminsrf2.jl:8\n",
      "┌ Info:        freuroth       6       0      first_order   7.3e-01   2.6e+02   3.8e-06   0.0e+00\n",
      "└ @ SolverBenchmark C:\\Users\\Ulrizpascuit\\.julia\\packages\\SolverBenchmark\\YM13z\\src\\run_solver.jl:175\n"
     ]
    },
    {
     "name": "stderr",
     "output_type": "stream",
     "text": [
      "┌ Info:          gauss1       8       0      first_order   1.7e+01   6.6e+02   1.0e-05   0.0e+00\n",
      "└ @ SolverBenchmark C:\\Users\\Ulrizpascuit\\.julia\\packages\\SolverBenchmark\\YM13z\\src\\run_solver.jl:175\n"
     ]
    },
    {
     "name": "stderr",
     "output_type": "stream",
     "text": [
      "┌ Info:          gauss2       8       0         max_time   3.0e+01   6.2e+02   1.6e-05   0.0e+00\n",
      "└ @ SolverBenchmark C:\\Users\\Ulrizpascuit\\.julia\\packages\\SolverBenchmark\\YM13z\\src\\run_solver.jl:175\n"
     ]
    },
    {
     "name": "stderr",
     "output_type": "stream",
     "text": [
      "┌ Info:          gauss3       8       0         max_time   3.0e+01   6.2e+02   1.6e-04   0.0e+00\n",
      "└ @ SolverBenchmark C:\\Users\\Ulrizpascuit\\.julia\\packages\\SolverBenchmark\\YM13z\\src\\run_solver.jl:175\n"
     ]
    },
    {
     "name": "stderr",
     "output_type": "stream",
     "text": [
      "┌ Info:        genhumps       6       0      first_order   9.0e-01   1.9e-10   8.6e-06   0.0e+00\n",
      "└ @ SolverBenchmark C:\\Users\\Ulrizpascuit\\.julia\\packages\\SolverBenchmark\\YM13z\\src\\run_solver.jl:175\n"
     ]
    },
    {
     "name": "stderr",
     "output_type": "stream",
     "text": [
      "┌ Info:         genrose       6       0      first_order   8.6e-01   1.0e+00   8.2e-07   0.0e+00\n",
      "└ @ SolverBenchmark C:\\Users\\Ulrizpascuit\\.julia\\packages\\SolverBenchmark\\YM13z\\src\\run_solver.jl:175\n"
     ]
    },
    {
     "name": "stderr",
     "output_type": "stream",
     "text": [
      "┌ Info:    genrose_nash       6       0      first_order   8.6e-01   1.0e+00   8.9e-06   0.0e+00\n",
      "└ @ SolverBenchmark C:\\Users\\Ulrizpascuit\\.julia\\packages\\SolverBenchmark\\YM13z\\src\\run_solver.jl:175\n"
     ]
    },
    {
     "name": "stderr",
     "output_type": "stream",
     "text": [
      "┌ Info:           hahn1       7       0      first_order   7.2e-01   2.8e+04   2.1e-10   0.0e+00\n",
      "└ @ SolverBenchmark C:\\Users\\Ulrizpascuit\\.julia\\packages\\SolverBenchmark\\YM13z\\src\\run_solver.jl:175\n"
     ]
    },
    {
     "name": "stderr",
     "output_type": "stream",
     "text": [
      "┌ Info:           indef       6       0      first_order   7.4e-01  -5.9e+02   2.8e-06   0.0e+00\n",
      "└ @ SolverBenchmark C:\\Users\\Ulrizpascuit\\.julia\\packages\\SolverBenchmark\\YM13z\\src\\run_solver.jl:175\n"
     ]
    },
    {
     "name": "stderr",
     "output_type": "stream",
     "text": [
      "┌ Info:        integreq       6       0      first_order   1.4e+00   3.3e-12   2.7e-06   0.0e+00\n",
      "└ @ SolverBenchmark C:\\Users\\Ulrizpascuit\\.julia\\packages\\SolverBenchmark\\YM13z\\src\\run_solver.jl:175\n"
     ]
    },
    {
     "name": "stderr",
     "output_type": "stream",
     "text": [
      "┌ Info:          kirby2       5       0         max_time   3.0e+01   2.0e+00   4.4e-05   0.0e+00\n",
      "└ @ SolverBenchmark C:\\Users\\Ulrizpascuit\\.julia\\packages\\SolverBenchmark\\YM13z\\src\\run_solver.jl:175\n"
     ]
    },
    {
     "name": "stderr",
     "output_type": "stream",
     "text": [
      "┌ Info:        lanczos1       6       0      first_order   7.3e-01   2.1e-06   4.9e-06   0.0e+00\n",
      "└ @ SolverBenchmark C:\\Users\\Ulrizpascuit\\.julia\\packages\\SolverBenchmark\\YM13z\\src\\run_solver.jl:175\n"
     ]
    },
    {
     "name": "stderr",
     "output_type": "stream",
     "text": [
      "┌ Info:        lanczos2       6       0      first_order   7.7e-01   2.2e-06   3.6e-06   0.0e+00\n",
      "└ @ SolverBenchmark C:\\Users\\Ulrizpascuit\\.julia\\packages\\SolverBenchmark\\YM13z\\src\\run_solver.jl:175\n"
     ]
    },
    {
     "name": "stderr",
     "output_type": "stream",
     "text": [
      "┌ Info:        lanczos3       6       0      first_order   6.2e-01   2.2e-06   9.3e-06   0.0e+00\n",
      "└ @ SolverBenchmark C:\\Users\\Ulrizpascuit\\.julia\\packages\\SolverBenchmark\\YM13z\\src\\run_solver.jl:175\n"
     ]
    },
    {
     "name": "stderr",
     "output_type": "stream",
     "text": [
      "┌ Info:         liarwhd       6       0      first_order   6.4e-01   5.1e-14   2.8e-06   0.0e+00\n",
      "└ @ SolverBenchmark C:\\Users\\Ulrizpascuit\\.julia\\packages\\SolverBenchmark\\YM13z\\src\\run_solver.jl:175\n"
     ]
    },
    {
     "name": "stderr",
     "output_type": "stream",
     "text": [
      "┌ Info:           mgh17       5       0      first_order   6.7e-01   5.5e-02   7.4e-07   0.0e+00\n",
      "└ @ SolverBenchmark C:\\Users\\Ulrizpascuit\\.julia\\packages\\SolverBenchmark\\YM13z\\src\\run_solver.jl:175\n"
     ]
    },
    {
     "name": "stderr",
     "output_type": "stream",
     "text": [
      "┌ Info:          morebv       6       0      first_order   6.8e-01   9.4e-15   2.4e-07   0.0e+00\n",
      "└ @ SolverBenchmark C:\\Users\\Ulrizpascuit\\.julia\\packages\\SolverBenchmark\\YM13z\\src\\run_solver.jl:175\n"
     ]
    },
    {
     "name": "stderr",
     "output_type": "stream",
     "text": [
      "┌ Warning: ncb20: number of variables must be ≥ 31\n",
      "└ @ OptimizationProblems.ADNLPProblems C:\\Users\\Ulrizpascuit\\.julia\\packages\\OptimizationProblems\\fiJkh\\src\\ADNLPProblems\\ncb20.jl:4\n"
     ]
    },
    {
     "name": "stderr",
     "output_type": "stream",
     "text": [
      "┌ Info:           ncb20      31       0      first_order   1.6e+00   4.4e+01   8.7e-06   0.0e+00\n",
      "└ @ SolverBenchmark C:\\Users\\Ulrizpascuit\\.julia\\packages\\SolverBenchmark\\YM13z\\src\\run_solver.jl:175\n",
      "┌ Warning: ncb20b: number of variables must be ≥ 20\n",
      "└ @ OptimizationProblems.ADNLPProblems C:\\Users\\Ulrizpascuit\\.julia\\packages\\OptimizationProblems\\fiJkh\\src\\ADNLPProblems\\ncb20b.jl:4\n"
     ]
    },
    {
     "name": "stderr",
     "output_type": "stream",
     "text": [
      "┌ Info:          ncb20b      20       0      first_order   1.5e+00   4.0e+01   1.1e-06   0.0e+00\n",
      "└ @ SolverBenchmark C:\\Users\\Ulrizpascuit\\.julia\\packages\\SolverBenchmark\\YM13z\\src\\run_solver.jl:175\n"
     ]
    },
    {
     "name": "stderr",
     "output_type": "stream",
     "text": [
      "┌ Info:        noncvxu2       6       0      first_order   6.4e-01   1.4e+01   8.8e-06   0.0e+00\n",
      "└ @ SolverBenchmark C:\\Users\\Ulrizpascuit\\.julia\\packages\\SolverBenchmark\\YM13z\\src\\run_solver.jl:175\n"
     ]
    },
    {
     "name": "stderr",
     "output_type": "stream",
     "text": [
      "┌ Info:        noncvxun       6       0      first_order   7.0e-01   1.4e+01   5.1e-06   0.0e+00\n",
      "└ @ SolverBenchmark C:\\Users\\Ulrizpascuit\\.julia\\packages\\SolverBenchmark\\YM13z\\src\\run_solver.jl:175\n"
     ]
    },
    {
     "name": "stderr",
     "output_type": "stream",
     "text": [
      "┌ Info:          nondia       6       0      first_order   6.8e-01   4.2e-20   1.1e-08   0.0e+00\n",
      "└ @ SolverBenchmark C:\\Users\\Ulrizpascuit\\.julia\\packages\\SolverBenchmark\\YM13z\\src\\run_solver.jl:175\n"
     ]
    },
    {
     "name": "stderr",
     "output_type": "stream",
     "text": [
      "┌ Info:        nondquar       6       0      first_order   6.1e-01   4.2e-09   7.7e-06   0.0e+00\n",
      "└ @ SolverBenchmark C:\\Users\\Ulrizpascuit\\.julia\\packages\\SolverBenchmark\\YM13z\\src\\run_solver.jl:175\n"
     ]
    },
    {
     "name": "stderr",
     "output_type": "stream",
     "text": [
      "┌ Info:        osborne1       5       0         max_time   3.0e+01   2.3e-02   3.0e-01   0.0e+00\n",
      "└ @ SolverBenchmark C:\\Users\\Ulrizpascuit\\.julia\\packages\\SolverBenchmark\\YM13z\\src\\run_solver.jl:175\n"
     ]
    },
    {
     "name": "stderr",
     "output_type": "stream",
     "text": [
      "┌ Info:        osborne2      11       0      first_order   7.5e-01   2.0e-02   6.1e-06   0.0e+00\n",
      "└ @ SolverBenchmark C:\\Users\\Ulrizpascuit\\.julia\\packages\\SolverBenchmark\\YM13z\\src\\run_solver.jl:175\n"
     ]
    },
    {
     "name": "stderr",
     "output_type": "stream",
     "text": [
      "┌ Info:        palmer1c       8       0         max_time   3.0e+01   4.9e-02   8.8e-02   0.0e+00\n",
      "└ @ SolverBenchmark C:\\Users\\Ulrizpascuit\\.julia\\packages\\SolverBenchmark\\YM13z\\src\\run_solver.jl:175\n"
     ]
    },
    {
     "name": "stderr",
     "output_type": "stream",
     "text": [
      "┌ Info:        palmer1d       7       0         max_time   3.0e+01   3.3e-01   1.8e-05   0.0e+00\n",
      "└ @ SolverBenchmark C:\\Users\\Ulrizpascuit\\.julia\\packages\\SolverBenchmark\\YM13z\\src\\run_solver.jl:175\n"
     ]
    },
    {
     "name": "stderr",
     "output_type": "stream",
     "text": [
      "┌ Info:        palmer2c       8       0         max_time   3.0e+01   7.2e-03   2.1e-04   0.0e+00\n",
      "└ @ SolverBenchmark C:\\Users\\Ulrizpascuit\\.julia\\packages\\SolverBenchmark\\YM13z\\src\\run_solver.jl:175\n"
     ]
    },
    {
     "name": "stderr",
     "output_type": "stream",
     "text": [
      "┌ Info:        palmer3c       8       0         max_time   3.0e+01   9.8e-03   1.8e-05   0.0e+00\n",
      "└ @ SolverBenchmark C:\\Users\\Ulrizpascuit\\.julia\\packages\\SolverBenchmark\\YM13z\\src\\run_solver.jl:175\n"
     ]
    },
    {
     "name": "stderr",
     "output_type": "stream",
     "text": [
      "┌ Info:        palmer4c       8       0         max_time   3.0e+01   2.9e-02   1.2e-05   0.0e+00\n",
      "└ @ SolverBenchmark C:\\Users\\Ulrizpascuit\\.julia\\packages\\SolverBenchmark\\YM13z\\src\\run_solver.jl:175\n"
     ]
    },
    {
     "name": "stderr",
     "output_type": "stream",
     "text": [
      "┌ Info:        palmer5c       6       0      first_order   1.4e+00   1.1e+00   4.6e-06   0.0e+00\n",
      "└ @ SolverBenchmark C:\\Users\\Ulrizpascuit\\.julia\\packages\\SolverBenchmark\\YM13z\\src\\run_solver.jl:175\n"
     ]
    },
    {
     "name": "stderr",
     "output_type": "stream",
     "text": [
      "┌ Info:        palmer6c       8       0      first_order   9.4e+00   8.2e-03   8.1e-06   0.0e+00\n",
      "└ @ SolverBenchmark C:\\Users\\Ulrizpascuit\\.julia\\packages\\SolverBenchmark\\YM13z\\src\\run_solver.jl:175\n"
     ]
    },
    {
     "name": "stderr",
     "output_type": "stream",
     "text": [
      "┌ Info:        palmer7c       8       0      first_order   2.9e+01   3.0e-01   1.0e-05   0.0e+00\n",
      "└ @ SolverBenchmark C:\\Users\\Ulrizpascuit\\.julia\\packages\\SolverBenchmark\\YM13z\\src\\run_solver.jl:175\n"
     ]
    },
    {
     "name": "stderr",
     "output_type": "stream",
     "text": [
      "┌ Info:        palmer8c       8       0      first_order   6.7e+00   8.0e-02   7.6e-06   0.0e+00\n",
      "└ @ SolverBenchmark C:\\Users\\Ulrizpascuit\\.julia\\packages\\SolverBenchmark\\YM13z\\src\\run_solver.jl:175\n",
      "┌ Info:        penalty1       6       0      first_order   7.9e-01   1.9e-05   8.0e-06   0.0e+00\n",
      "└ @ SolverBenchmark C:\\Users\\Ulrizpascuit\\.julia\\packages\\SolverBenchmark\\YM13z\\src\\run_solver.jl:175\n"
     ]
    },
    {
     "name": "stderr",
     "output_type": "stream",
     "text": [
      "┌ Info:        penalty2       6       0      first_order   9.4e-01   4.2e-05   1.8e-06   0.0e+00\n",
      "└ @ SolverBenchmark C:\\Users\\Ulrizpascuit\\.julia\\packages\\SolverBenchmark\\YM13z\\src\\run_solver.jl:175\n"
     ]
    },
    {
     "name": "stderr",
     "output_type": "stream",
     "text": [
      "┌ Info:        penalty3       6       0      first_order   1.2e+00   1.4e+02   9.4e-06   0.0e+00\n",
      "└ @ SolverBenchmark C:\\Users\\Ulrizpascuit\\.julia\\packages\\SolverBenchmark\\YM13z\\src\\run_solver.jl:175\n"
     ]
    },
    {
     "name": "stderr",
     "output_type": "stream",
     "text": [
      "┌ Warning: powellsg: number of variables adjusted to be a multiple of 4\n",
      "└ @ OptimizationProblems.ADNLPProblems C:\\Users\\Ulrizpascuit\\.julia\\packages\\OptimizationProblems\\fiJkh\\src\\ADNLPProblems\\powellsg.jl:4\n"
     ]
    },
    {
     "name": "stderr",
     "output_type": "stream",
     "text": [
      "┌ Info:           power       6       0      first_order   7.1e-01   1.8e-08   5.5e-06   0.0e+00\n",
      "└ @ SolverBenchmark C:\\Users\\Ulrizpascuit\\.julia\\packages\\SolverBenchmark\\YM13z\\src\\run_solver.jl:175\n"
     ]
    },
    {
     "name": "stderr",
     "output_type": "stream",
     "text": [
      "┌ Info:          quartc       6       0      first_order   7.1e-01   4.2e-08   8.1e-06   0.0e+00\n",
      "└ @ SolverBenchmark C:\\Users\\Ulrizpascuit\\.julia\\packages\\SolverBenchmark\\YM13z\\src\\run_solver.jl:175\n"
     ]
    },
    {
     "ename": "MethodError",
     "evalue": "MethodError: objects of type ADNLPModel{Float64, Vector{Float64}, Vector{Int64}} are not callable",
     "output_type": "error",
     "traceback": [
      "MethodError: objects of type ADNLPModel{Float64, Vector{Float64}, Vector{Int64}} are not callable\n",
      "\n",
      "Stacktrace:\n",
      " [1] (::var\"#22#23\")(problem::String)\n",
      "   @ Main .\\none:0\n",
      " [2] iterate\n",
      "   @ .\\generator.jl:47 [inlined]\n",
      " [3] iterate\n",
      "   @ .\\iterators.jl:202 [inlined]\n",
      " [4] solve_problems(solver::var\"#20#21\", problems::Base.Generator{Vector{String}, var\"#22#23\"}; solver_logger::Base.CoreLogging.NullLogger, reset_problem::Bool, skipif::var\"#24#25\", colstats::Vector{Symbol}, info_hdr_override::Dict{Symbol, String}, prune::Bool, kwargs::Base.Pairs{Symbol, Union{}, Tuple{}, NamedTuple{(), Tuple{}}})\n",
      "   @ SolverBenchmark C:\\Users\\Ulrizpascuit\\.julia\\packages\\SolverBenchmark\\YM13z\\src\\run_solver.jl:176\n",
      " [5] bmark_solvers(solvers::Dict{Symbol, var\"#20#21\"}, args::Base.Generator{Vector{String}, var\"#22#23\"}; kwargs::Base.Pairs{Symbol, var\"#24#25\", Tuple{Symbol}, NamedTuple{(:skipif,), Tuple{var\"#24#25\"}}})\n",
      "   @ SolverBenchmark C:\\Users\\Ulrizpascuit\\.julia\\packages\\SolverBenchmark\\YM13z\\src\\bmark_solvers.jl:22\n",
      " [6] top-level scope\n",
      "   @ c:\\Users\\Ulrizpascuit\\Desktop\\MTH8408\\MTH8408-Hiv24\\lab3\\Lab3-notebook.ipynb:22"
     ]
    }
   ],
   "source": [
    "first_order(df) = df.status .== :first_order\n",
    "unbounded(df) = df.status .== :unbounded\n",
    "solved(df) = first_order(df) .| unbounded(df)\n",
    "# solved(ges)\n",
    "\n",
    "n = 6\n",
    "solvers = solvers = Dict(\n",
    "  :lbfgs => model -> lbfgs(model, mem=5, atol=1e-5, rtol=0.0)\n",
    "  # :armijo_Newton_cg  => model -> armijo_Newton_cg(model),\n",
    "  # :trunk => model -> trunk(model),\n",
    ")\n",
    "\n",
    "ad_problems = (eval(Meta.parse(problem))(;n) for problem ∈ OptimizationProblems.meta[!, :name])\n",
    "\n",
    "stats = bmark_solvers(\n",
    "  solvers, ad_problems,\n",
    "  skipif=prob -> (!unconstrained(prob) || get_nvar(prob) > 100 || get_nvar(prob) < 5),\n",
    ")\n",
    "\n",
    "costnames = [\"time\", \"obj + grad + hess\"]\n",
    "costs = [\n",
    "  df -> .!solved(df) .* Inf .+ df.elapsed_time,\n",
    "  df -> .!solved(df) .* Inf .+ df.neval_obj .+ df.neval_grad .+ df.neval_hess,\n",
    "]\n",
    "\n",
    "using Plots\n",
    "gr()\n",
    "\n",
    "profile_solvers(stats, costs, costnames)\n"
   ]
  },
  {
   "cell_type": "markdown",
   "metadata": {},
   "source": [
    "Exercice 4"
   ]
  },
  {
   "cell_type": "markdown",
   "metadata": {},
   "source": [
    "Il est impossible de comparer les algorithmes, car je n'ai pas été en mesure de tracer les profils de performances (problème de débugging non résolu). Cependant, il est intuitif de dire que l'algorithme lbfgs avec une mémoire élevée proposera de meilleures approximations et donc une convergence vers la solution plus rapide qu'avec une mémoire faible (le temps de calcul sera plus long en contre partie, donc le profil de performance en fonction du temps de calcul ou de la mémoire ne sera pas nécessairement mieux)."
   ]
  }
 ],
 "metadata": {
  "kernelspec": {
   "display_name": "Julia 1.9.3",
   "language": "julia",
   "name": "julia-1.9"
  },
  "language_info": {
   "file_extension": ".jl",
   "mimetype": "application/julia",
   "name": "julia",
   "version": "1.9.3"
  }
 },
 "nbformat": 4,
 "nbformat_minor": 4
}
