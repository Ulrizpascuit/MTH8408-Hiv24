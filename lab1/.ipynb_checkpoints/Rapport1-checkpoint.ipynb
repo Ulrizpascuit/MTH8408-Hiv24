{
 "cells": [
  {
   "cell_type": "code",
   "execution_count": null,
   "id": "c2459025-552e-4ee4-b1fb-228be6cc88a3",
   "metadata": {},
   "outputs": [],
   "source": []
  }
 ],
 "metadata": {
  "kernelspec": {
   "display_name": "Julia 1.9.3",
   "language": "julia",
   "name": "julia-1.9"
  },
  "language_info": {
   "file_extension": ".jl",
   "mimetype": "application/julia",
   "name": "julia",
   "version": "1.9.3"
  }
 },
 "nbformat": 4,
 "nbformat_minor": 5
}
