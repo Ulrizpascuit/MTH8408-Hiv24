{
 "cells": [
  {
   "cell_type": "markdown",
   "id": "5169515b",
   "metadata": {},
   "source": [
    "# Rapport de Lab1"
   ]
  },
  {
   "cell_type": "markdown",
   "id": "c37b2b4a",
   "metadata": {},
   "source": [
    "## Ulrich Baron-Fournier (2021196)"
   ]
  },
  {
   "cell_type": "markdown",
   "id": "bfc06fa6",
   "metadata": {},
   "source": [
    "### Fonction qui résoud un équation de forme ax² + bx + c = 0"
   ]
  },
  {
   "cell_type": "code",
   "execution_count": 1,
   "id": "c2459025-552e-4ee4-b1fb-228be6cc88a3",
   "metadata": {},
   "outputs": [
    {
     "name": "stdout",
     "output_type": "stream",
     "text": [
      "Racines = "
     ]
    },
    {
     "name": "stdout",
     "output_type": "stream",
     "text": [
      "[2.0, 1.0]\n"
     ]
    }
   ],
   "source": [
    "function solve_quadratique(a, b, c)\n",
    "    Δ = b^2 - 4 * a * c\n",
    "    \n",
    "    if Δ < 0\n",
    "        return \"Aucune racine réelle\"\n",
    "    elseif Δ == 0\n",
    "        x = -b / (2 * a)\n",
    "        return x\n",
    "    else\n",
    "        x1 = (-b + sqrt(Δ)) / (2 * a)\n",
    "        x2 = (-b - sqrt(Δ)) / (2 * a)\n",
    "        return [x1, x2]\n",
    "    end\n",
    "end\n",
    "\n",
    "#Exemple\n",
    "a = 1\n",
    "b = -3\n",
    "c = 2\n",
    "\n",
    "racines = solve_quadratique(a, b, c)\n",
    "println(\"Racines = \", racines)\n"
   ]
  },
  {
   "cell_type": "markdown",
   "id": "9ab30e67",
   "metadata": {},
   "source": [
    "### Fonction qui vérifie si une matrice est définie positive"
   ]
  },
  {
   "cell_type": "code",
   "execution_count": 2,
   "id": "17acc59f",
   "metadata": {},
   "outputs": [],
   "source": [
    "using LinearAlgebra"
   ]
  },
  {
   "cell_type": "code",
   "execution_count": 10,
   "id": "8de757ac",
   "metadata": {},
   "outputs": [
    {
     "name": "stdout",
     "output_type": "stream",
     "text": [
      "La matrice est symmétrique définie positive\n",
      "La matrice n'est pas symmétrique définie positive\n"
     ]
    }
   ],
   "source": [
    "function is_symmetric_positive_definite(A)\n",
    "    if size(A, 1) != size(A, 2) || A != transpose(A)\n",
    "        return \"La matrice n'est pas symmétrique définie positive\"\n",
    "    end\n",
    "\n",
    "    n = size(A, 1)\n",
    "\n",
    "    for k in 1:n\n",
    "        minor = A[1:k, 1:k]\n",
    "        if det(minor) <= 0\n",
    "            return \"La matrice n'est pas symmétrique définie positive\"\n",
    "        end\n",
    "    end\n",
    "\n",
    "    return \"La matrice est symmétrique définie positive\"\n",
    "end\n",
    "\n",
    "#Exemple 1\n",
    "A1 = [4.0 1.0 2.0;\n",
    "      1.0 5.0 6.0;\n",
    "      2.0 6.0 9.0]\n",
    "\n",
    "resultat1 = is_symmetric_positive_definite(A1)\n",
    "println(resultat1)\n",
    "\n",
    "A2 = [1.0 2.0 3.0;\n",
    "      4.0 5.0 6.0;\n",
    "      7.0 8.0 9.0]\n",
    "\n",
    "resultat2 = is_symmetric_positive_definite(A2)\n",
    "println(resultat2)\n"
   ]
  },
  {
   "cell_type": "markdown",
   "id": "3c7314e8",
   "metadata": {},
   "source": [
    "### Optimisation d'un problème 2d avec JuMP"
   ]
  },
  {
   "cell_type": "code",
   "execution_count": 5,
   "id": "6345b8d7",
   "metadata": {},
   "outputs": [],
   "source": [
    "using JuMP\n",
    "using Ipopt\n",
    "using MathOptInterface"
   ]
  },
  {
   "cell_type": "code",
   "execution_count": 6,
   "id": "4d8d0948",
   "metadata": {},
   "outputs": [
    {
     "data": {
      "text/latex": [
       "$ {\\left({100.0} * {\\left({\\left(-x₁^2 + x₂\\right)} ^ {2.0}\\right)}\\right)} + {\\left(x₁^2 - 2 x₁ + 1\\right)} $"
      ],
      "text/plain": [
       "(100.0 * ((-x₁² + x₂) ^ 2.0)) + (x₁² - 2 x₁ + 1)"
      ]
     },
     "metadata": {},
     "output_type": "display_data"
    }
   ],
   "source": [
    "model = Model(Ipopt.Optimizer)\n",
    "@variable(model, x₁)\n",
    "@variable(model, x₂)\n",
    "@objective(model, Min, 100(x₂ - x₁^2)^2 + (1 - x₁)^2)"
   ]
  },
  {
   "cell_type": "code",
   "execution_count": 7,
   "id": "8f867692",
   "metadata": {},
   "outputs": [
    {
     "name": "stdout",
     "output_type": "stream",
     "text": [
      "\n",
      "******************************************************************************\n",
      "This program contains Ipopt, a library for large-scale nonlinear optimization.\n",
      " Ipopt is released as open source code under the Eclipse Public License (EPL).\n",
      "         For more information visit https://github.com/coin-or/Ipopt\n",
      "******************************************************************************\n",
      "\n",
      "This is Ipopt version 3.14.13, running with linear solver MUMPS 5.6.2.\n",
      "\n",
      "Number of nonzeros in equality constraint Jacobian...:        0\n",
      "Number of nonzeros in inequality constraint Jacobian.:        0\n",
      "Number of nonzeros in Lagrangian Hessian.............:        3\n",
      "\n",
      "Total number of variables............................:        2\n",
      "                     variables with only lower bounds:        0\n",
      "                variables with lower and upper bounds:        0\n",
      "                     variables with only upper bounds:        0\n",
      "Total number of equality constraints.................:        0\n",
      "Total number of inequality constraints...............:        0\n",
      "        inequality constraints with only lower bounds:        0\n",
      "   inequality constraints with lower and upper bounds:        0\n",
      "        inequality constraints with only upper bounds:        0\n",
      "\n",
      "iter    objective    inf_pr   inf_du lg(mu)  ||d||  lg(rg) alpha_du alpha_pr  ls\n",
      "   0  1.0000000e+00 0.00e+00 2.00e+00  -1.0 0.00e+00    -  0.00e+00 0.00e+00   0\n",
      "   1  9.5312500e-01 0.00e+00 1.25e+01  -1.0 1.00e+00    -  1.00e+00 2.50e-01f  3\n",
      "   2  4.8320569e-01 0.00e+00 1.01e+00  -1.0 9.03e-02    -  1.00e+00 1.00e+00f  1\n",
      "   3  4.5708829e-01 0.00e+00 9.53e+00  -1.0 4.29e-01    -  1.00e+00 5.00e-01f  2\n",
      "   4  1.8894205e-01 0.00e+00 4.15e-01  -1.0 9.51e-02    -  1.00e+00 1.00e+00f  1\n",
      "   5  1.3918726e-01 0.00e+00 6.51e+00  -1.7 3.49e-01    -  1.00e+00 5.00e-01f  2\n",
      "   6  5.4940990e-02 0.00e+00 4.51e-01  -1.7 9.29e-02    -  1.00e+00 1.00e+00f  1\n",
      "   7  2.9144630e-02 0.00e+00 2.27e+00  -1.7 2.49e-01    -  1.00e+00 5.00e-01f  2\n",
      "   8  9.8586451e-03 0.00e+00 1.15e+00  -1.7 1.10e-01    -  1.00e+00 1.00e+00f  1\n",
      "   9  2.3237475e-03 0.00e+00 1.00e+00  -1.7 1.00e-01    -  1.00e+00 1.00e+00f  1\n",
      "iter    objective    inf_pr   inf_du lg(mu)  ||d||  lg(rg) alpha_du alpha_pr  ls\n",
      "  10  2.3797236e-04 0.00e+00 2.19e-01  -1.7 5.09e-02    -  1.00e+00 1.00e+00f  1\n",
      "  11  4.9267371e-06 0.00e+00 5.95e-02  -1.7 2.53e-02    -  1.00e+00 1.00e+00f  1\n",
      "  12  2.8189506e-09 0.00e+00 8.31e-04  -2.5 3.20e-03    -  1.00e+00 1.00e+00f  1\n",
      "  13  9.6379884e-16 0.00e+00 8.68e-07  -5.7 9.78e-05    -  1.00e+00 1.00e+00f  1\n",
      "  14  1.9721523e-29 0.00e+00 1.57e-13  -8.6 4.65e-08    -  1.00e+00 1.00e+00f  1\n",
      "\n",
      "Number of Iterations....: 14\n",
      "\n",
      "                                   (scaled)                 (unscaled)\n",
      "Objective...............:   1.9721522630525295e-29    1.9721522630525295e-29\n",
      "Dual infeasibility......:   1.5720758028692217e-13    1.5720758028692217e-13\n",
      "Constraint violation....:   0.0000000000000000e+00    0.0000000000000000e+00\n",
      "Variable bound violation:   0.0000000000000000e+00    0.0000000000000000e+00\n",
      "Complementarity.........:   0.0000000000000000e+00    0.0000000000000000e+00\n",
      "Overall NLP error.......:   1.5720758028692217e-13    1.5720758028692217e-13\n",
      "\n",
      "\n",
      "Number of objective function evaluations             = 36\n",
      "Number of objective gradient evaluations             = 15\n",
      "Number of equality constraint evaluations            = 0\n",
      "Number of inequality constraint evaluations          = 0\n",
      "Number of equality constraint Jacobian evaluations   = 0\n",
      "Number of inequality constraint Jacobian evaluations = 0\n",
      "Number of Lagrangian Hessian evaluations             = 14\n",
      "Total seconds in IPOPT                               = 0.031\n",
      "\n",
      "EXIT: Optimal Solution Found.\n",
      "x₁ = 0.9999999999999898 x₂ = 0.9999999999999791 Valeur = 1.9721522630525295e-29\n"
     ]
    }
   ],
   "source": [
    "JuMP.optimize!(model)\n",
    "println(\"x₁ = \", value(x₁), \" x₂ = \", value(x₂), \" Valeur = \", objective_value(model))"
   ]
  },
  {
   "cell_type": "markdown",
   "id": "624e0a3a",
   "metadata": {},
   "source": [
    "### Optimisation d'un problème 2d avec nlpmodels"
   ]
  },
  {
   "cell_type": "code",
   "execution_count": 8,
   "id": "a1558359",
   "metadata": {},
   "outputs": [],
   "source": [
    "using ADNLPModels \n",
    "using NLPModels \n",
    "using NLPModelsJuMP \n",
    "using NLPModelsIpopt "
   ]
  },
  {
   "cell_type": "code",
   "execution_count": 9,
   "id": "5e23ad20",
   "metadata": {},
   "outputs": [
    {
     "name": "stdout",
     "output_type": "stream",
     "text": [
      "This is Ipopt version 3.14.13, running with linear solver MUMPS 5.6.2.\n",
      "\n",
      "Number of nonzeros in equality constraint Jacobian...:        0\n",
      "Number of nonzeros in inequality constraint Jacobian.:        0\n",
      "Number of nonzeros in Lagrangian Hessian.............:        3\n",
      "\n",
      "Total number of variables............................:        2\n",
      "                     variables with only lower bounds:        0\n",
      "                variables with lower and upper bounds:        0\n",
      "                     variables with only upper bounds:        0\n",
      "Total number of equality constraints.................:        0\n",
      "Total number of inequality constraints...............:        0\n",
      "        inequality constraints with only lower bounds:        0\n",
      "   inequality constraints with lower and upper bounds:        0\n",
      "        inequality constraints with only upper bounds:        0\n",
      "\n",
      "iter    objective    inf_pr   inf_du lg(mu)  ||d||  lg(rg) alpha_du alpha_pr  ls\n",
      "   0  2.4200000e+01 0.00e+00 1.00e+02  -1.0 0.00e+00    -  0.00e+00 0.00e+00   0\n",
      "   1  4.7318843e+00 0.00e+00 2.15e+00  -1.0 3.81e-01    -  1.00e+00 1.00e+00f  1\n",
      "   2  4.0873987e+00 0.00e+00 1.20e+01  -1.0 4.56e+00    -  1.00e+00 1.25e-01f  4\n",
      "   3  3.2286726e+00 0.00e+00 4.94e+00  -1.0 2.21e-01    -  1.00e+00 1.00e+00f  1\n",
      "   4  3.2138981e+00 0.00e+00 1.02e+01  -1.0 4.82e-01    -  1.00e+00 1.00e+00f  1\n",
      "   5  1.9425854e+00 0.00e+00 1.62e+00  -1.0 6.70e-02    -  1.00e+00 1.00e+00f  1\n",
      "   6  1.6001937e+00 0.00e+00 3.44e+00  -1.0 7.35e-01    -  1.00e+00 2.50e-01f  3\n",
      "   7  1.1783896e+00 0.00e+00 1.92e+00  -1.0 1.44e-01    -  1.00e+00 1.00e+00f  1\n",
      "   8  9.2241158e-01 0.00e+00 4.00e+00  -1.0 2.08e-01    -  1.00e+00 1.00e+00f  1\n",
      "   9  5.9748862e-01 0.00e+00 7.36e-01  -1.0 8.91e-02    -  1.00e+00 1.00e+00f  1\n",
      "iter    objective    inf_pr   inf_du lg(mu)  ||d||  lg(rg) alpha_du alpha_pr  ls\n",
      "  10  4.5262510e-01 0.00e+00 2.42e+00  -1.7 2.97e-01    -  1.00e+00 5.00e-01f  2\n",
      "  11  2.8076244e-01 0.00e+00 9.25e-01  -1.7 1.02e-01    -  1.00e+00 1.00e+00f  1\n",
      "  12  2.1139340e-01 0.00e+00 3.34e+00  -1.7 1.77e-01    -  1.00e+00 1.00e+00f  1\n",
      "  13  8.9019501e-02 0.00e+00 2.25e-01  -1.7 9.45e-02    -  1.00e+00 1.00e+00f  1\n",
      "  14  5.1535405e-02 0.00e+00 1.49e+00  -1.7 2.84e-01    -  1.00e+00 5.00e-01f  2\n",
      "  15  1.9992778e-02 0.00e+00 4.64e-01  -1.7 1.09e-01    -  1.00e+00 1.00e+00f  1\n",
      "  16  7.1692436e-03 0.00e+00 1.03e+00  -1.7 1.39e-01    -  1.00e+00 1.00e+00f  1\n",
      "  17  1.0696137e-03 0.00e+00 9.09e-02  -1.7 5.50e-02    -  1.00e+00 1.00e+00f  1\n",
      "  18  7.7768464e-05 0.00e+00 1.44e-01  -2.5 5.53e-02    -  1.00e+00 1.00e+00f  1\n",
      "  19  2.8246695e-07 0.00e+00 1.50e-03  -2.5 7.31e-03    -  1.00e+00 1.00e+00f  1\n",
      "iter    objective    inf_pr   inf_du lg(mu)  ||d||  lg(rg) alpha_du alpha_pr  ls\n",
      "  20  8.5170750e-12 0.00e+00 4.90e-05  -5.7 1.05e-03    -  1.00e+00 1.00e+00f  1\n",
      "  21  3.7439756e-21 0.00e+00 1.73e-10  -5.7 2.49e-06    -  1.00e+00 1.00e+00f  1\n",
      "\n",
      "Number of Iterations....: 21\n",
      "\n",
      "                                   (scaled)                 (unscaled)\n",
      "Objective...............:   1.7365378678754519e-21    3.7439756431394737e-21\n",
      "Dual infeasibility......:   1.7312156654298279e-10    3.7325009746667082e-10\n",
      "Constraint violation....:   0.0000000000000000e+00    0.0000000000000000e+00\n",
      "Variable bound violation:   0.0000000000000000e+00    0.0000000000000000e+00\n",
      "Complementarity.........:   0.0000000000000000e+00    0.0000000000000000e+00\n",
      "Overall NLP error.......:   1.7312156654298279e-10    3.7325009746667082e-10\n",
      "\n",
      "\n",
      "Number of objective function evaluations             = 45\n",
      "Number of objective gradient evaluations             = 22\n",
      "Number of equality constraint evaluations            = 0\n",
      "Number of inequality constraint evaluations          = 0\n",
      "Number of equality constraint Jacobian evaluations   = 0\n",
      "Number of inequality constraint Jacobian evaluations = 0\n",
      "Number of Lagrangian Hessian evaluations             = 21\n",
      "Total seconds in IPOPT                               = 14.795\n",
      "\n",
      "EXIT: Optimal Solution Found.\n",
      "Generic Execution stats\n",
      "  status: first-order stationary\n",
      "  objective value: 3.743975643139474e-21\n",
      "  primal feasibility: 0.0\n",
      "  dual feasibility: 3.732500974666708e-10\n",
      "  solution: [0.9999999999400667  0.9999999998789006]\n",
      "  iterations: 21\n",
      "  elapsed time: 14.795\n",
      "  solver specific:\n",
      "    real_time: 14.79800009727478\n"
     ]
    },
    {
     "name": "stdout",
     "output_type": "stream",
     "text": [
      "    internal_msg: :Solve_Succeeded\n"
     ]
    }
   ],
   "source": [
    "nlp = ADNLPModel(x -> (x[1] - 1)^2 + 100 * (x[2] - x[1]^2)^2, [-1.2; 1.0])\n",
    "stats = ipopt(nlp)\n",
    "print(stats)"
   ]
  }
 ],
 "metadata": {
  "kernelspec": {
   "display_name": "Julia 1.9.3",
   "language": "julia",
   "name": "julia-1.9"
  },
  "language_info": {
   "file_extension": ".jl",
   "mimetype": "application/julia",
   "name": "julia",
   "version": "1.9.3"
  }
 },
 "nbformat": 4,
 "nbformat_minor": 5
}
